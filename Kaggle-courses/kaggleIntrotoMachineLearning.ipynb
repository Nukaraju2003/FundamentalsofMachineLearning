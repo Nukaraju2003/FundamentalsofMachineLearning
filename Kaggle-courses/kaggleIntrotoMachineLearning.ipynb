{
  "nbformat": 4,
  "nbformat_minor": 0,
  "metadata": {
    "colab": {
      "provenance": [],
      "authorship_tag": "ABX9TyPb6/gnwKGS13E+v/4Ntit/",
      "include_colab_link": true
    },
    "kernelspec": {
      "name": "python3",
      "display_name": "Python 3"
    },
    "language_info": {
      "name": "python"
    }
  },
  "cells": [
    {
      "cell_type": "markdown",
      "metadata": {
        "id": "view-in-github",
        "colab_type": "text"
      },
      "source": [
        "<a href=\"https://colab.research.google.com/github/Nukaraju2003/Kaggle-courses/blob/main/kaggleIntrotoMachineLearning.ipynb\" target=\"_parent\"><img src=\"https://colab.research.google.com/assets/colab-badge.svg\" alt=\"Open In Colab\"/></a>"
      ]
    },
    {
      "cell_type": "code",
      "execution_count": null,
      "metadata": {
        "id": "V9MQ6W84sRJL"
      },
      "outputs": [],
      "source": [
        "import pandas as pd"
      ]
    },
    {
      "cell_type": "code",
      "source": [
        "# save filepath to varible for easier access\n",
        "melbourne_file_path = '/content/melb_data.csv'\n",
        "# read the data and store data in DataFrame titled melbourne_data \n",
        "melbourne_data = pd.read_csv(melbourne_file_path)\n",
        "#print a summary of the data in Melbourne data\n",
        "melbourne_data.describe()"
      ],
      "metadata": {
        "colab": {
          "base_uri": "https://localhost:8080/",
          "height": 364
        },
        "id": "6QANUt9CvECu",
        "outputId": "97229038-baa5-4b46-d2f9-7dbc865e9a37"
      },
      "execution_count": null,
      "outputs": [
        {
          "output_type": "execute_result",
          "data": {
            "text/plain": [
              "              Rooms         Price      Distance      Postcode      Bedroom2  \\\n",
              "count  13580.000000  1.358000e+04  13580.000000  13580.000000  13580.000000   \n",
              "mean       2.937997  1.075684e+06     10.137776   3105.301915      2.914728   \n",
              "std        0.955748  6.393107e+05      5.868725     90.676964      0.965921   \n",
              "min        1.000000  8.500000e+04      0.000000   3000.000000      0.000000   \n",
              "25%        2.000000  6.500000e+05      6.100000   3044.000000      2.000000   \n",
              "50%        3.000000  9.030000e+05      9.200000   3084.000000      3.000000   \n",
              "75%        3.000000  1.330000e+06     13.000000   3148.000000      3.000000   \n",
              "max       10.000000  9.000000e+06     48.100000   3977.000000     20.000000   \n",
              "\n",
              "           Bathroom           Car       Landsize  BuildingArea    YearBuilt  \\\n",
              "count  13580.000000  13518.000000   13580.000000   7130.000000  8205.000000   \n",
              "mean       1.534242      1.610075     558.416127    151.967650  1964.684217   \n",
              "std        0.691712      0.962634    3990.669241    541.014538    37.273762   \n",
              "min        0.000000      0.000000       0.000000      0.000000  1196.000000   \n",
              "25%        1.000000      1.000000     177.000000     93.000000  1940.000000   \n",
              "50%        1.000000      2.000000     440.000000    126.000000  1970.000000   \n",
              "75%        2.000000      2.000000     651.000000    174.000000  1999.000000   \n",
              "max        8.000000     10.000000  433014.000000  44515.000000  2018.000000   \n",
              "\n",
              "          Lattitude    Longtitude  Propertycount  \n",
              "count  13580.000000  13580.000000   13580.000000  \n",
              "mean     -37.809203    144.995216    7454.417378  \n",
              "std        0.079260      0.103916    4378.581772  \n",
              "min      -38.182550    144.431810     249.000000  \n",
              "25%      -37.856822    144.929600    4380.000000  \n",
              "50%      -37.802355    145.000100    6555.000000  \n",
              "75%      -37.756400    145.058305   10331.000000  \n",
              "max      -37.408530    145.526350   21650.000000  "
            ],
            "text/html": [
              "\n",
              "  <div id=\"df-5a72ca02-20f2-4d6a-b4b6-798a70039c3e\">\n",
              "    <div class=\"colab-df-container\">\n",
              "      <div>\n",
              "<style scoped>\n",
              "    .dataframe tbody tr th:only-of-type {\n",
              "        vertical-align: middle;\n",
              "    }\n",
              "\n",
              "    .dataframe tbody tr th {\n",
              "        vertical-align: top;\n",
              "    }\n",
              "\n",
              "    .dataframe thead th {\n",
              "        text-align: right;\n",
              "    }\n",
              "</style>\n",
              "<table border=\"1\" class=\"dataframe\">\n",
              "  <thead>\n",
              "    <tr style=\"text-align: right;\">\n",
              "      <th></th>\n",
              "      <th>Rooms</th>\n",
              "      <th>Price</th>\n",
              "      <th>Distance</th>\n",
              "      <th>Postcode</th>\n",
              "      <th>Bedroom2</th>\n",
              "      <th>Bathroom</th>\n",
              "      <th>Car</th>\n",
              "      <th>Landsize</th>\n",
              "      <th>BuildingArea</th>\n",
              "      <th>YearBuilt</th>\n",
              "      <th>Lattitude</th>\n",
              "      <th>Longtitude</th>\n",
              "      <th>Propertycount</th>\n",
              "    </tr>\n",
              "  </thead>\n",
              "  <tbody>\n",
              "    <tr>\n",
              "      <th>count</th>\n",
              "      <td>13580.000000</td>\n",
              "      <td>1.358000e+04</td>\n",
              "      <td>13580.000000</td>\n",
              "      <td>13580.000000</td>\n",
              "      <td>13580.000000</td>\n",
              "      <td>13580.000000</td>\n",
              "      <td>13518.000000</td>\n",
              "      <td>13580.000000</td>\n",
              "      <td>7130.000000</td>\n",
              "      <td>8205.000000</td>\n",
              "      <td>13580.000000</td>\n",
              "      <td>13580.000000</td>\n",
              "      <td>13580.000000</td>\n",
              "    </tr>\n",
              "    <tr>\n",
              "      <th>mean</th>\n",
              "      <td>2.937997</td>\n",
              "      <td>1.075684e+06</td>\n",
              "      <td>10.137776</td>\n",
              "      <td>3105.301915</td>\n",
              "      <td>2.914728</td>\n",
              "      <td>1.534242</td>\n",
              "      <td>1.610075</td>\n",
              "      <td>558.416127</td>\n",
              "      <td>151.967650</td>\n",
              "      <td>1964.684217</td>\n",
              "      <td>-37.809203</td>\n",
              "      <td>144.995216</td>\n",
              "      <td>7454.417378</td>\n",
              "    </tr>\n",
              "    <tr>\n",
              "      <th>std</th>\n",
              "      <td>0.955748</td>\n",
              "      <td>6.393107e+05</td>\n",
              "      <td>5.868725</td>\n",
              "      <td>90.676964</td>\n",
              "      <td>0.965921</td>\n",
              "      <td>0.691712</td>\n",
              "      <td>0.962634</td>\n",
              "      <td>3990.669241</td>\n",
              "      <td>541.014538</td>\n",
              "      <td>37.273762</td>\n",
              "      <td>0.079260</td>\n",
              "      <td>0.103916</td>\n",
              "      <td>4378.581772</td>\n",
              "    </tr>\n",
              "    <tr>\n",
              "      <th>min</th>\n",
              "      <td>1.000000</td>\n",
              "      <td>8.500000e+04</td>\n",
              "      <td>0.000000</td>\n",
              "      <td>3000.000000</td>\n",
              "      <td>0.000000</td>\n",
              "      <td>0.000000</td>\n",
              "      <td>0.000000</td>\n",
              "      <td>0.000000</td>\n",
              "      <td>0.000000</td>\n",
              "      <td>1196.000000</td>\n",
              "      <td>-38.182550</td>\n",
              "      <td>144.431810</td>\n",
              "      <td>249.000000</td>\n",
              "    </tr>\n",
              "    <tr>\n",
              "      <th>25%</th>\n",
              "      <td>2.000000</td>\n",
              "      <td>6.500000e+05</td>\n",
              "      <td>6.100000</td>\n",
              "      <td>3044.000000</td>\n",
              "      <td>2.000000</td>\n",
              "      <td>1.000000</td>\n",
              "      <td>1.000000</td>\n",
              "      <td>177.000000</td>\n",
              "      <td>93.000000</td>\n",
              "      <td>1940.000000</td>\n",
              "      <td>-37.856822</td>\n",
              "      <td>144.929600</td>\n",
              "      <td>4380.000000</td>\n",
              "    </tr>\n",
              "    <tr>\n",
              "      <th>50%</th>\n",
              "      <td>3.000000</td>\n",
              "      <td>9.030000e+05</td>\n",
              "      <td>9.200000</td>\n",
              "      <td>3084.000000</td>\n",
              "      <td>3.000000</td>\n",
              "      <td>1.000000</td>\n",
              "      <td>2.000000</td>\n",
              "      <td>440.000000</td>\n",
              "      <td>126.000000</td>\n",
              "      <td>1970.000000</td>\n",
              "      <td>-37.802355</td>\n",
              "      <td>145.000100</td>\n",
              "      <td>6555.000000</td>\n",
              "    </tr>\n",
              "    <tr>\n",
              "      <th>75%</th>\n",
              "      <td>3.000000</td>\n",
              "      <td>1.330000e+06</td>\n",
              "      <td>13.000000</td>\n",
              "      <td>3148.000000</td>\n",
              "      <td>3.000000</td>\n",
              "      <td>2.000000</td>\n",
              "      <td>2.000000</td>\n",
              "      <td>651.000000</td>\n",
              "      <td>174.000000</td>\n",
              "      <td>1999.000000</td>\n",
              "      <td>-37.756400</td>\n",
              "      <td>145.058305</td>\n",
              "      <td>10331.000000</td>\n",
              "    </tr>\n",
              "    <tr>\n",
              "      <th>max</th>\n",
              "      <td>10.000000</td>\n",
              "      <td>9.000000e+06</td>\n",
              "      <td>48.100000</td>\n",
              "      <td>3977.000000</td>\n",
              "      <td>20.000000</td>\n",
              "      <td>8.000000</td>\n",
              "      <td>10.000000</td>\n",
              "      <td>433014.000000</td>\n",
              "      <td>44515.000000</td>\n",
              "      <td>2018.000000</td>\n",
              "      <td>-37.408530</td>\n",
              "      <td>145.526350</td>\n",
              "      <td>21650.000000</td>\n",
              "    </tr>\n",
              "  </tbody>\n",
              "</table>\n",
              "</div>\n",
              "      <button class=\"colab-df-convert\" onclick=\"convertToInteractive('df-5a72ca02-20f2-4d6a-b4b6-798a70039c3e')\"\n",
              "              title=\"Convert this dataframe to an interactive table.\"\n",
              "              style=\"display:none;\">\n",
              "        \n",
              "  <svg xmlns=\"http://www.w3.org/2000/svg\" height=\"24px\"viewBox=\"0 0 24 24\"\n",
              "       width=\"24px\">\n",
              "    <path d=\"M0 0h24v24H0V0z\" fill=\"none\"/>\n",
              "    <path d=\"M18.56 5.44l.94 2.06.94-2.06 2.06-.94-2.06-.94-.94-2.06-.94 2.06-2.06.94zm-11 1L8.5 8.5l.94-2.06 2.06-.94-2.06-.94L8.5 2.5l-.94 2.06-2.06.94zm10 10l.94 2.06.94-2.06 2.06-.94-2.06-.94-.94-2.06-.94 2.06-2.06.94z\"/><path d=\"M17.41 7.96l-1.37-1.37c-.4-.4-.92-.59-1.43-.59-.52 0-1.04.2-1.43.59L10.3 9.45l-7.72 7.72c-.78.78-.78 2.05 0 2.83L4 21.41c.39.39.9.59 1.41.59.51 0 1.02-.2 1.41-.59l7.78-7.78 2.81-2.81c.8-.78.8-2.07 0-2.86zM5.41 20L4 18.59l7.72-7.72 1.47 1.35L5.41 20z\"/>\n",
              "  </svg>\n",
              "      </button>\n",
              "      \n",
              "  <style>\n",
              "    .colab-df-container {\n",
              "      display:flex;\n",
              "      flex-wrap:wrap;\n",
              "      gap: 12px;\n",
              "    }\n",
              "\n",
              "    .colab-df-convert {\n",
              "      background-color: #E8F0FE;\n",
              "      border: none;\n",
              "      border-radius: 50%;\n",
              "      cursor: pointer;\n",
              "      display: none;\n",
              "      fill: #1967D2;\n",
              "      height: 32px;\n",
              "      padding: 0 0 0 0;\n",
              "      width: 32px;\n",
              "    }\n",
              "\n",
              "    .colab-df-convert:hover {\n",
              "      background-color: #E2EBFA;\n",
              "      box-shadow: 0px 1px 2px rgba(60, 64, 67, 0.3), 0px 1px 3px 1px rgba(60, 64, 67, 0.15);\n",
              "      fill: #174EA6;\n",
              "    }\n",
              "\n",
              "    [theme=dark] .colab-df-convert {\n",
              "      background-color: #3B4455;\n",
              "      fill: #D2E3FC;\n",
              "    }\n",
              "\n",
              "    [theme=dark] .colab-df-convert:hover {\n",
              "      background-color: #434B5C;\n",
              "      box-shadow: 0px 1px 3px 1px rgba(0, 0, 0, 0.15);\n",
              "      filter: drop-shadow(0px 1px 2px rgba(0, 0, 0, 0.3));\n",
              "      fill: #FFFFFF;\n",
              "    }\n",
              "  </style>\n",
              "\n",
              "      <script>\n",
              "        const buttonEl =\n",
              "          document.querySelector('#df-5a72ca02-20f2-4d6a-b4b6-798a70039c3e button.colab-df-convert');\n",
              "        buttonEl.style.display =\n",
              "          google.colab.kernel.accessAllowed ? 'block' : 'none';\n",
              "\n",
              "        async function convertToInteractive(key) {\n",
              "          const element = document.querySelector('#df-5a72ca02-20f2-4d6a-b4b6-798a70039c3e');\n",
              "          const dataTable =\n",
              "            await google.colab.kernel.invokeFunction('convertToInteractive',\n",
              "                                                     [key], {});\n",
              "          if (!dataTable) return;\n",
              "\n",
              "          const docLinkHtml = 'Like what you see? Visit the ' +\n",
              "            '<a target=\"_blank\" href=https://colab.research.google.com/notebooks/data_table.ipynb>data table notebook</a>'\n",
              "            + ' to learn more about interactive tables.';\n",
              "          element.innerHTML = '';\n",
              "          dataTable['output_type'] = 'display_data';\n",
              "          await google.colab.output.renderOutput(dataTable, element);\n",
              "          const docLink = document.createElement('div');\n",
              "          docLink.innerHTML = docLinkHtml;\n",
              "          element.appendChild(docLink);\n",
              "        }\n",
              "      </script>\n",
              "    </div>\n",
              "  </div>\n",
              "  "
            ]
          },
          "metadata": {},
          "execution_count": 3
        }
      ]
    },
    {
      "cell_type": "markdown",
      "source": [
        "### Exercise: Explore your Data"
      ],
      "metadata": {
        "id": "OGH0O5cOwhSd"
      }
    },
    {
      "cell_type": "code",
      "source": [
        "import pandas as pd\n",
        "\n",
        "# path of the file to read \n",
        "iowa_file_path = '/content/melb_data.csv'\n",
        "\n",
        "home_data = pd.read_csv(iowa_file_path)\n",
        "\n",
        "home_data.describe()\n"
      ],
      "metadata": {
        "colab": {
          "base_uri": "https://localhost:8080/",
          "height": 364
        },
        "id": "ixw87GkL1pFC",
        "outputId": "31f54aa5-3961-4b2f-ea1e-0ccc41788095"
      },
      "execution_count": null,
      "outputs": [
        {
          "output_type": "execute_result",
          "data": {
            "text/plain": [
              "              Rooms         Price      Distance      Postcode      Bedroom2  \\\n",
              "count  13580.000000  1.358000e+04  13580.000000  13580.000000  13580.000000   \n",
              "mean       2.937997  1.075684e+06     10.137776   3105.301915      2.914728   \n",
              "std        0.955748  6.393107e+05      5.868725     90.676964      0.965921   \n",
              "min        1.000000  8.500000e+04      0.000000   3000.000000      0.000000   \n",
              "25%        2.000000  6.500000e+05      6.100000   3044.000000      2.000000   \n",
              "50%        3.000000  9.030000e+05      9.200000   3084.000000      3.000000   \n",
              "75%        3.000000  1.330000e+06     13.000000   3148.000000      3.000000   \n",
              "max       10.000000  9.000000e+06     48.100000   3977.000000     20.000000   \n",
              "\n",
              "           Bathroom           Car       Landsize  BuildingArea    YearBuilt  \\\n",
              "count  13580.000000  13518.000000   13580.000000   7130.000000  8205.000000   \n",
              "mean       1.534242      1.610075     558.416127    151.967650  1964.684217   \n",
              "std        0.691712      0.962634    3990.669241    541.014538    37.273762   \n",
              "min        0.000000      0.000000       0.000000      0.000000  1196.000000   \n",
              "25%        1.000000      1.000000     177.000000     93.000000  1940.000000   \n",
              "50%        1.000000      2.000000     440.000000    126.000000  1970.000000   \n",
              "75%        2.000000      2.000000     651.000000    174.000000  1999.000000   \n",
              "max        8.000000     10.000000  433014.000000  44515.000000  2018.000000   \n",
              "\n",
              "          Lattitude    Longtitude  Propertycount  \n",
              "count  13580.000000  13580.000000   13580.000000  \n",
              "mean     -37.809203    144.995216    7454.417378  \n",
              "std        0.079260      0.103916    4378.581772  \n",
              "min      -38.182550    144.431810     249.000000  \n",
              "25%      -37.856822    144.929600    4380.000000  \n",
              "50%      -37.802355    145.000100    6555.000000  \n",
              "75%      -37.756400    145.058305   10331.000000  \n",
              "max      -37.408530    145.526350   21650.000000  "
            ],
            "text/html": [
              "\n",
              "  <div id=\"df-d0a1a1d4-22f9-4cfc-9430-c6ee6cdda31b\">\n",
              "    <div class=\"colab-df-container\">\n",
              "      <div>\n",
              "<style scoped>\n",
              "    .dataframe tbody tr th:only-of-type {\n",
              "        vertical-align: middle;\n",
              "    }\n",
              "\n",
              "    .dataframe tbody tr th {\n",
              "        vertical-align: top;\n",
              "    }\n",
              "\n",
              "    .dataframe thead th {\n",
              "        text-align: right;\n",
              "    }\n",
              "</style>\n",
              "<table border=\"1\" class=\"dataframe\">\n",
              "  <thead>\n",
              "    <tr style=\"text-align: right;\">\n",
              "      <th></th>\n",
              "      <th>Rooms</th>\n",
              "      <th>Price</th>\n",
              "      <th>Distance</th>\n",
              "      <th>Postcode</th>\n",
              "      <th>Bedroom2</th>\n",
              "      <th>Bathroom</th>\n",
              "      <th>Car</th>\n",
              "      <th>Landsize</th>\n",
              "      <th>BuildingArea</th>\n",
              "      <th>YearBuilt</th>\n",
              "      <th>Lattitude</th>\n",
              "      <th>Longtitude</th>\n",
              "      <th>Propertycount</th>\n",
              "    </tr>\n",
              "  </thead>\n",
              "  <tbody>\n",
              "    <tr>\n",
              "      <th>count</th>\n",
              "      <td>13580.000000</td>\n",
              "      <td>1.358000e+04</td>\n",
              "      <td>13580.000000</td>\n",
              "      <td>13580.000000</td>\n",
              "      <td>13580.000000</td>\n",
              "      <td>13580.000000</td>\n",
              "      <td>13518.000000</td>\n",
              "      <td>13580.000000</td>\n",
              "      <td>7130.000000</td>\n",
              "      <td>8205.000000</td>\n",
              "      <td>13580.000000</td>\n",
              "      <td>13580.000000</td>\n",
              "      <td>13580.000000</td>\n",
              "    </tr>\n",
              "    <tr>\n",
              "      <th>mean</th>\n",
              "      <td>2.937997</td>\n",
              "      <td>1.075684e+06</td>\n",
              "      <td>10.137776</td>\n",
              "      <td>3105.301915</td>\n",
              "      <td>2.914728</td>\n",
              "      <td>1.534242</td>\n",
              "      <td>1.610075</td>\n",
              "      <td>558.416127</td>\n",
              "      <td>151.967650</td>\n",
              "      <td>1964.684217</td>\n",
              "      <td>-37.809203</td>\n",
              "      <td>144.995216</td>\n",
              "      <td>7454.417378</td>\n",
              "    </tr>\n",
              "    <tr>\n",
              "      <th>std</th>\n",
              "      <td>0.955748</td>\n",
              "      <td>6.393107e+05</td>\n",
              "      <td>5.868725</td>\n",
              "      <td>90.676964</td>\n",
              "      <td>0.965921</td>\n",
              "      <td>0.691712</td>\n",
              "      <td>0.962634</td>\n",
              "      <td>3990.669241</td>\n",
              "      <td>541.014538</td>\n",
              "      <td>37.273762</td>\n",
              "      <td>0.079260</td>\n",
              "      <td>0.103916</td>\n",
              "      <td>4378.581772</td>\n",
              "    </tr>\n",
              "    <tr>\n",
              "      <th>min</th>\n",
              "      <td>1.000000</td>\n",
              "      <td>8.500000e+04</td>\n",
              "      <td>0.000000</td>\n",
              "      <td>3000.000000</td>\n",
              "      <td>0.000000</td>\n",
              "      <td>0.000000</td>\n",
              "      <td>0.000000</td>\n",
              "      <td>0.000000</td>\n",
              "      <td>0.000000</td>\n",
              "      <td>1196.000000</td>\n",
              "      <td>-38.182550</td>\n",
              "      <td>144.431810</td>\n",
              "      <td>249.000000</td>\n",
              "    </tr>\n",
              "    <tr>\n",
              "      <th>25%</th>\n",
              "      <td>2.000000</td>\n",
              "      <td>6.500000e+05</td>\n",
              "      <td>6.100000</td>\n",
              "      <td>3044.000000</td>\n",
              "      <td>2.000000</td>\n",
              "      <td>1.000000</td>\n",
              "      <td>1.000000</td>\n",
              "      <td>177.000000</td>\n",
              "      <td>93.000000</td>\n",
              "      <td>1940.000000</td>\n",
              "      <td>-37.856822</td>\n",
              "      <td>144.929600</td>\n",
              "      <td>4380.000000</td>\n",
              "    </tr>\n",
              "    <tr>\n",
              "      <th>50%</th>\n",
              "      <td>3.000000</td>\n",
              "      <td>9.030000e+05</td>\n",
              "      <td>9.200000</td>\n",
              "      <td>3084.000000</td>\n",
              "      <td>3.000000</td>\n",
              "      <td>1.000000</td>\n",
              "      <td>2.000000</td>\n",
              "      <td>440.000000</td>\n",
              "      <td>126.000000</td>\n",
              "      <td>1970.000000</td>\n",
              "      <td>-37.802355</td>\n",
              "      <td>145.000100</td>\n",
              "      <td>6555.000000</td>\n",
              "    </tr>\n",
              "    <tr>\n",
              "      <th>75%</th>\n",
              "      <td>3.000000</td>\n",
              "      <td>1.330000e+06</td>\n",
              "      <td>13.000000</td>\n",
              "      <td>3148.000000</td>\n",
              "      <td>3.000000</td>\n",
              "      <td>2.000000</td>\n",
              "      <td>2.000000</td>\n",
              "      <td>651.000000</td>\n",
              "      <td>174.000000</td>\n",
              "      <td>1999.000000</td>\n",
              "      <td>-37.756400</td>\n",
              "      <td>145.058305</td>\n",
              "      <td>10331.000000</td>\n",
              "    </tr>\n",
              "    <tr>\n",
              "      <th>max</th>\n",
              "      <td>10.000000</td>\n",
              "      <td>9.000000e+06</td>\n",
              "      <td>48.100000</td>\n",
              "      <td>3977.000000</td>\n",
              "      <td>20.000000</td>\n",
              "      <td>8.000000</td>\n",
              "      <td>10.000000</td>\n",
              "      <td>433014.000000</td>\n",
              "      <td>44515.000000</td>\n",
              "      <td>2018.000000</td>\n",
              "      <td>-37.408530</td>\n",
              "      <td>145.526350</td>\n",
              "      <td>21650.000000</td>\n",
              "    </tr>\n",
              "  </tbody>\n",
              "</table>\n",
              "</div>\n",
              "      <button class=\"colab-df-convert\" onclick=\"convertToInteractive('df-d0a1a1d4-22f9-4cfc-9430-c6ee6cdda31b')\"\n",
              "              title=\"Convert this dataframe to an interactive table.\"\n",
              "              style=\"display:none;\">\n",
              "        \n",
              "  <svg xmlns=\"http://www.w3.org/2000/svg\" height=\"24px\"viewBox=\"0 0 24 24\"\n",
              "       width=\"24px\">\n",
              "    <path d=\"M0 0h24v24H0V0z\" fill=\"none\"/>\n",
              "    <path d=\"M18.56 5.44l.94 2.06.94-2.06 2.06-.94-2.06-.94-.94-2.06-.94 2.06-2.06.94zm-11 1L8.5 8.5l.94-2.06 2.06-.94-2.06-.94L8.5 2.5l-.94 2.06-2.06.94zm10 10l.94 2.06.94-2.06 2.06-.94-2.06-.94-.94-2.06-.94 2.06-2.06.94z\"/><path d=\"M17.41 7.96l-1.37-1.37c-.4-.4-.92-.59-1.43-.59-.52 0-1.04.2-1.43.59L10.3 9.45l-7.72 7.72c-.78.78-.78 2.05 0 2.83L4 21.41c.39.39.9.59 1.41.59.51 0 1.02-.2 1.41-.59l7.78-7.78 2.81-2.81c.8-.78.8-2.07 0-2.86zM5.41 20L4 18.59l7.72-7.72 1.47 1.35L5.41 20z\"/>\n",
              "  </svg>\n",
              "      </button>\n",
              "      \n",
              "  <style>\n",
              "    .colab-df-container {\n",
              "      display:flex;\n",
              "      flex-wrap:wrap;\n",
              "      gap: 12px;\n",
              "    }\n",
              "\n",
              "    .colab-df-convert {\n",
              "      background-color: #E8F0FE;\n",
              "      border: none;\n",
              "      border-radius: 50%;\n",
              "      cursor: pointer;\n",
              "      display: none;\n",
              "      fill: #1967D2;\n",
              "      height: 32px;\n",
              "      padding: 0 0 0 0;\n",
              "      width: 32px;\n",
              "    }\n",
              "\n",
              "    .colab-df-convert:hover {\n",
              "      background-color: #E2EBFA;\n",
              "      box-shadow: 0px 1px 2px rgba(60, 64, 67, 0.3), 0px 1px 3px 1px rgba(60, 64, 67, 0.15);\n",
              "      fill: #174EA6;\n",
              "    }\n",
              "\n",
              "    [theme=dark] .colab-df-convert {\n",
              "      background-color: #3B4455;\n",
              "      fill: #D2E3FC;\n",
              "    }\n",
              "\n",
              "    [theme=dark] .colab-df-convert:hover {\n",
              "      background-color: #434B5C;\n",
              "      box-shadow: 0px 1px 3px 1px rgba(0, 0, 0, 0.15);\n",
              "      filter: drop-shadow(0px 1px 2px rgba(0, 0, 0, 0.3));\n",
              "      fill: #FFFFFF;\n",
              "    }\n",
              "  </style>\n",
              "\n",
              "      <script>\n",
              "        const buttonEl =\n",
              "          document.querySelector('#df-d0a1a1d4-22f9-4cfc-9430-c6ee6cdda31b button.colab-df-convert');\n",
              "        buttonEl.style.display =\n",
              "          google.colab.kernel.accessAllowed ? 'block' : 'none';\n",
              "\n",
              "        async function convertToInteractive(key) {\n",
              "          const element = document.querySelector('#df-d0a1a1d4-22f9-4cfc-9430-c6ee6cdda31b');\n",
              "          const dataTable =\n",
              "            await google.colab.kernel.invokeFunction('convertToInteractive',\n",
              "                                                     [key], {});\n",
              "          if (!dataTable) return;\n",
              "\n",
              "          const docLinkHtml = 'Like what you see? Visit the ' +\n",
              "            '<a target=\"_blank\" href=https://colab.research.google.com/notebooks/data_table.ipynb>data table notebook</a>'\n",
              "            + ' to learn more about interactive tables.';\n",
              "          element.innerHTML = '';\n",
              "          dataTable['output_type'] = 'display_data';\n",
              "          await google.colab.output.renderOutput(dataTable, element);\n",
              "          const docLink = document.createElement('div');\n",
              "          docLink.innerHTML = docLinkHtml;\n",
              "          element.appendChild(docLink);\n",
              "        }\n",
              "      </script>\n",
              "    </div>\n",
              "  </div>\n",
              "  "
            ]
          },
          "metadata": {},
          "execution_count": 4
        }
      ]
    },
    {
      "cell_type": "markdown",
      "source": [
        "## Your First Machine Learning Model"
      ],
      "metadata": {
        "id": "ToalAEH15rG8"
      }
    },
    {
      "cell_type": "code",
      "source": [
        "import pandas as pd\n",
        "melbourne_file_path = '/content/melb_data.csv'\n",
        "melbourne_data = pd.read_csv(melbourne_file_path)\n",
        "melbourne_data.columns"
      ],
      "metadata": {
        "colab": {
          "base_uri": "https://localhost:8080/"
        },
        "id": "bNx9jtFa8IqG",
        "outputId": "39b716db-c5b9-413d-b56e-7ca9ef883d22"
      },
      "execution_count": null,
      "outputs": [
        {
          "output_type": "execute_result",
          "data": {
            "text/plain": [
              "Index(['Suburb', 'Address', 'Rooms', 'Type', 'Price', 'Method', 'SellerG',\n",
              "       'Date', 'Distance', 'Postcode', 'Bedroom2', 'Bathroom', 'Car',\n",
              "       'Landsize', 'BuildingArea', 'YearBuilt', 'CouncilArea', 'Lattitude',\n",
              "       'Longtitude', 'Regionname', 'Propertycount'],\n",
              "      dtype='object')"
            ]
          },
          "metadata": {},
          "execution_count": 5
        }
      ]
    },
    {
      "cell_type": "code",
      "source": [
        "melbourne_data = melbourne_data.dropna(axis=0)"
      ],
      "metadata": {
        "id": "ZpIW5ECy9uvd"
      },
      "execution_count": null,
      "outputs": []
    },
    {
      "cell_type": "code",
      "source": [
        "y = melbourne_data.Price"
      ],
      "metadata": {
        "id": "5--PiTl599z3"
      },
      "execution_count": null,
      "outputs": []
    },
    {
      "cell_type": "code",
      "source": [
        "melbourne_features = ['Rooms','Bathroom','Landsize','Lattitude','Longtitude']"
      ],
      "metadata": {
        "id": "LXSEUkVC-7YT"
      },
      "execution_count": null,
      "outputs": []
    },
    {
      "cell_type": "code",
      "source": [
        "X =melbourne_data[melbourne_features]"
      ],
      "metadata": {
        "id": "cGlKOSceAaY6"
      },
      "execution_count": null,
      "outputs": []
    },
    {
      "cell_type": "code",
      "source": [
        "# Review data\n",
        "X.describe()"
      ],
      "metadata": {
        "colab": {
          "base_uri": "https://localhost:8080/",
          "height": 300
        },
        "id": "yuK2vvjPAijq",
        "outputId": "9521303d-ecee-4151-89fd-f73d5d8d80be"
      },
      "execution_count": null,
      "outputs": [
        {
          "output_type": "execute_result",
          "data": {
            "text/plain": [
              "             Rooms     Bathroom      Landsize    Lattitude   Longtitude\n",
              "count  6196.000000  6196.000000   6196.000000  6196.000000  6196.000000\n",
              "mean      2.931407     1.576340    471.006940   -37.807904   144.990201\n",
              "std       0.971079     0.711362    897.449881     0.075850     0.099165\n",
              "min       1.000000     1.000000      0.000000   -38.164920   144.542370\n",
              "25%       2.000000     1.000000    152.000000   -37.855438   144.926198\n",
              "50%       3.000000     1.000000    373.000000   -37.802250   144.995800\n",
              "75%       4.000000     2.000000    628.000000   -37.758200   145.052700\n",
              "max       8.000000     8.000000  37000.000000   -37.457090   145.526350"
            ],
            "text/html": [
              "\n",
              "  <div id=\"df-ac90be03-b52c-48e7-b6af-aa20d2d7e9cc\">\n",
              "    <div class=\"colab-df-container\">\n",
              "      <div>\n",
              "<style scoped>\n",
              "    .dataframe tbody tr th:only-of-type {\n",
              "        vertical-align: middle;\n",
              "    }\n",
              "\n",
              "    .dataframe tbody tr th {\n",
              "        vertical-align: top;\n",
              "    }\n",
              "\n",
              "    .dataframe thead th {\n",
              "        text-align: right;\n",
              "    }\n",
              "</style>\n",
              "<table border=\"1\" class=\"dataframe\">\n",
              "  <thead>\n",
              "    <tr style=\"text-align: right;\">\n",
              "      <th></th>\n",
              "      <th>Rooms</th>\n",
              "      <th>Bathroom</th>\n",
              "      <th>Landsize</th>\n",
              "      <th>Lattitude</th>\n",
              "      <th>Longtitude</th>\n",
              "    </tr>\n",
              "  </thead>\n",
              "  <tbody>\n",
              "    <tr>\n",
              "      <th>count</th>\n",
              "      <td>6196.000000</td>\n",
              "      <td>6196.000000</td>\n",
              "      <td>6196.000000</td>\n",
              "      <td>6196.000000</td>\n",
              "      <td>6196.000000</td>\n",
              "    </tr>\n",
              "    <tr>\n",
              "      <th>mean</th>\n",
              "      <td>2.931407</td>\n",
              "      <td>1.576340</td>\n",
              "      <td>471.006940</td>\n",
              "      <td>-37.807904</td>\n",
              "      <td>144.990201</td>\n",
              "    </tr>\n",
              "    <tr>\n",
              "      <th>std</th>\n",
              "      <td>0.971079</td>\n",
              "      <td>0.711362</td>\n",
              "      <td>897.449881</td>\n",
              "      <td>0.075850</td>\n",
              "      <td>0.099165</td>\n",
              "    </tr>\n",
              "    <tr>\n",
              "      <th>min</th>\n",
              "      <td>1.000000</td>\n",
              "      <td>1.000000</td>\n",
              "      <td>0.000000</td>\n",
              "      <td>-38.164920</td>\n",
              "      <td>144.542370</td>\n",
              "    </tr>\n",
              "    <tr>\n",
              "      <th>25%</th>\n",
              "      <td>2.000000</td>\n",
              "      <td>1.000000</td>\n",
              "      <td>152.000000</td>\n",
              "      <td>-37.855438</td>\n",
              "      <td>144.926198</td>\n",
              "    </tr>\n",
              "    <tr>\n",
              "      <th>50%</th>\n",
              "      <td>3.000000</td>\n",
              "      <td>1.000000</td>\n",
              "      <td>373.000000</td>\n",
              "      <td>-37.802250</td>\n",
              "      <td>144.995800</td>\n",
              "    </tr>\n",
              "    <tr>\n",
              "      <th>75%</th>\n",
              "      <td>4.000000</td>\n",
              "      <td>2.000000</td>\n",
              "      <td>628.000000</td>\n",
              "      <td>-37.758200</td>\n",
              "      <td>145.052700</td>\n",
              "    </tr>\n",
              "    <tr>\n",
              "      <th>max</th>\n",
              "      <td>8.000000</td>\n",
              "      <td>8.000000</td>\n",
              "      <td>37000.000000</td>\n",
              "      <td>-37.457090</td>\n",
              "      <td>145.526350</td>\n",
              "    </tr>\n",
              "  </tbody>\n",
              "</table>\n",
              "</div>\n",
              "      <button class=\"colab-df-convert\" onclick=\"convertToInteractive('df-ac90be03-b52c-48e7-b6af-aa20d2d7e9cc')\"\n",
              "              title=\"Convert this dataframe to an interactive table.\"\n",
              "              style=\"display:none;\">\n",
              "        \n",
              "  <svg xmlns=\"http://www.w3.org/2000/svg\" height=\"24px\"viewBox=\"0 0 24 24\"\n",
              "       width=\"24px\">\n",
              "    <path d=\"M0 0h24v24H0V0z\" fill=\"none\"/>\n",
              "    <path d=\"M18.56 5.44l.94 2.06.94-2.06 2.06-.94-2.06-.94-.94-2.06-.94 2.06-2.06.94zm-11 1L8.5 8.5l.94-2.06 2.06-.94-2.06-.94L8.5 2.5l-.94 2.06-2.06.94zm10 10l.94 2.06.94-2.06 2.06-.94-2.06-.94-.94-2.06-.94 2.06-2.06.94z\"/><path d=\"M17.41 7.96l-1.37-1.37c-.4-.4-.92-.59-1.43-.59-.52 0-1.04.2-1.43.59L10.3 9.45l-7.72 7.72c-.78.78-.78 2.05 0 2.83L4 21.41c.39.39.9.59 1.41.59.51 0 1.02-.2 1.41-.59l7.78-7.78 2.81-2.81c.8-.78.8-2.07 0-2.86zM5.41 20L4 18.59l7.72-7.72 1.47 1.35L5.41 20z\"/>\n",
              "  </svg>\n",
              "      </button>\n",
              "      \n",
              "  <style>\n",
              "    .colab-df-container {\n",
              "      display:flex;\n",
              "      flex-wrap:wrap;\n",
              "      gap: 12px;\n",
              "    }\n",
              "\n",
              "    .colab-df-convert {\n",
              "      background-color: #E8F0FE;\n",
              "      border: none;\n",
              "      border-radius: 50%;\n",
              "      cursor: pointer;\n",
              "      display: none;\n",
              "      fill: #1967D2;\n",
              "      height: 32px;\n",
              "      padding: 0 0 0 0;\n",
              "      width: 32px;\n",
              "    }\n",
              "\n",
              "    .colab-df-convert:hover {\n",
              "      background-color: #E2EBFA;\n",
              "      box-shadow: 0px 1px 2px rgba(60, 64, 67, 0.3), 0px 1px 3px 1px rgba(60, 64, 67, 0.15);\n",
              "      fill: #174EA6;\n",
              "    }\n",
              "\n",
              "    [theme=dark] .colab-df-convert {\n",
              "      background-color: #3B4455;\n",
              "      fill: #D2E3FC;\n",
              "    }\n",
              "\n",
              "    [theme=dark] .colab-df-convert:hover {\n",
              "      background-color: #434B5C;\n",
              "      box-shadow: 0px 1px 3px 1px rgba(0, 0, 0, 0.15);\n",
              "      filter: drop-shadow(0px 1px 2px rgba(0, 0, 0, 0.3));\n",
              "      fill: #FFFFFF;\n",
              "    }\n",
              "  </style>\n",
              "\n",
              "      <script>\n",
              "        const buttonEl =\n",
              "          document.querySelector('#df-ac90be03-b52c-48e7-b6af-aa20d2d7e9cc button.colab-df-convert');\n",
              "        buttonEl.style.display =\n",
              "          google.colab.kernel.accessAllowed ? 'block' : 'none';\n",
              "\n",
              "        async function convertToInteractive(key) {\n",
              "          const element = document.querySelector('#df-ac90be03-b52c-48e7-b6af-aa20d2d7e9cc');\n",
              "          const dataTable =\n",
              "            await google.colab.kernel.invokeFunction('convertToInteractive',\n",
              "                                                     [key], {});\n",
              "          if (!dataTable) return;\n",
              "\n",
              "          const docLinkHtml = 'Like what you see? Visit the ' +\n",
              "            '<a target=\"_blank\" href=https://colab.research.google.com/notebooks/data_table.ipynb>data table notebook</a>'\n",
              "            + ' to learn more about interactive tables.';\n",
              "          element.innerHTML = '';\n",
              "          dataTable['output_type'] = 'display_data';\n",
              "          await google.colab.output.renderOutput(dataTable, element);\n",
              "          const docLink = document.createElement('div');\n",
              "          docLink.innerHTML = docLinkHtml;\n",
              "          element.appendChild(docLink);\n",
              "        }\n",
              "      </script>\n",
              "    </div>\n",
              "  </div>\n",
              "  "
            ]
          },
          "metadata": {},
          "execution_count": 10
        }
      ]
    },
    {
      "cell_type": "code",
      "source": [
        "X.head()"
      ],
      "metadata": {
        "colab": {
          "base_uri": "https://localhost:8080/",
          "height": 206
        },
        "id": "JUGxOWcyAptZ",
        "outputId": "c57525a5-7619-42ac-fd60-38982634f72d"
      },
      "execution_count": null,
      "outputs": [
        {
          "output_type": "execute_result",
          "data": {
            "text/plain": [
              "   Rooms  Bathroom  Landsize  Lattitude  Longtitude\n",
              "1      2       1.0     156.0   -37.8079    144.9934\n",
              "2      3       2.0     134.0   -37.8093    144.9944\n",
              "4      4       1.0     120.0   -37.8072    144.9941\n",
              "6      3       2.0     245.0   -37.8024    144.9993\n",
              "7      2       1.0     256.0   -37.8060    144.9954"
            ],
            "text/html": [
              "\n",
              "  <div id=\"df-384a0ed3-bf4b-4b45-bd63-5d95cb04e968\">\n",
              "    <div class=\"colab-df-container\">\n",
              "      <div>\n",
              "<style scoped>\n",
              "    .dataframe tbody tr th:only-of-type {\n",
              "        vertical-align: middle;\n",
              "    }\n",
              "\n",
              "    .dataframe tbody tr th {\n",
              "        vertical-align: top;\n",
              "    }\n",
              "\n",
              "    .dataframe thead th {\n",
              "        text-align: right;\n",
              "    }\n",
              "</style>\n",
              "<table border=\"1\" class=\"dataframe\">\n",
              "  <thead>\n",
              "    <tr style=\"text-align: right;\">\n",
              "      <th></th>\n",
              "      <th>Rooms</th>\n",
              "      <th>Bathroom</th>\n",
              "      <th>Landsize</th>\n",
              "      <th>Lattitude</th>\n",
              "      <th>Longtitude</th>\n",
              "    </tr>\n",
              "  </thead>\n",
              "  <tbody>\n",
              "    <tr>\n",
              "      <th>1</th>\n",
              "      <td>2</td>\n",
              "      <td>1.0</td>\n",
              "      <td>156.0</td>\n",
              "      <td>-37.8079</td>\n",
              "      <td>144.9934</td>\n",
              "    </tr>\n",
              "    <tr>\n",
              "      <th>2</th>\n",
              "      <td>3</td>\n",
              "      <td>2.0</td>\n",
              "      <td>134.0</td>\n",
              "      <td>-37.8093</td>\n",
              "      <td>144.9944</td>\n",
              "    </tr>\n",
              "    <tr>\n",
              "      <th>4</th>\n",
              "      <td>4</td>\n",
              "      <td>1.0</td>\n",
              "      <td>120.0</td>\n",
              "      <td>-37.8072</td>\n",
              "      <td>144.9941</td>\n",
              "    </tr>\n",
              "    <tr>\n",
              "      <th>6</th>\n",
              "      <td>3</td>\n",
              "      <td>2.0</td>\n",
              "      <td>245.0</td>\n",
              "      <td>-37.8024</td>\n",
              "      <td>144.9993</td>\n",
              "    </tr>\n",
              "    <tr>\n",
              "      <th>7</th>\n",
              "      <td>2</td>\n",
              "      <td>1.0</td>\n",
              "      <td>256.0</td>\n",
              "      <td>-37.8060</td>\n",
              "      <td>144.9954</td>\n",
              "    </tr>\n",
              "  </tbody>\n",
              "</table>\n",
              "</div>\n",
              "      <button class=\"colab-df-convert\" onclick=\"convertToInteractive('df-384a0ed3-bf4b-4b45-bd63-5d95cb04e968')\"\n",
              "              title=\"Convert this dataframe to an interactive table.\"\n",
              "              style=\"display:none;\">\n",
              "        \n",
              "  <svg xmlns=\"http://www.w3.org/2000/svg\" height=\"24px\"viewBox=\"0 0 24 24\"\n",
              "       width=\"24px\">\n",
              "    <path d=\"M0 0h24v24H0V0z\" fill=\"none\"/>\n",
              "    <path d=\"M18.56 5.44l.94 2.06.94-2.06 2.06-.94-2.06-.94-.94-2.06-.94 2.06-2.06.94zm-11 1L8.5 8.5l.94-2.06 2.06-.94-2.06-.94L8.5 2.5l-.94 2.06-2.06.94zm10 10l.94 2.06.94-2.06 2.06-.94-2.06-.94-.94-2.06-.94 2.06-2.06.94z\"/><path d=\"M17.41 7.96l-1.37-1.37c-.4-.4-.92-.59-1.43-.59-.52 0-1.04.2-1.43.59L10.3 9.45l-7.72 7.72c-.78.78-.78 2.05 0 2.83L4 21.41c.39.39.9.59 1.41.59.51 0 1.02-.2 1.41-.59l7.78-7.78 2.81-2.81c.8-.78.8-2.07 0-2.86zM5.41 20L4 18.59l7.72-7.72 1.47 1.35L5.41 20z\"/>\n",
              "  </svg>\n",
              "      </button>\n",
              "      \n",
              "  <style>\n",
              "    .colab-df-container {\n",
              "      display:flex;\n",
              "      flex-wrap:wrap;\n",
              "      gap: 12px;\n",
              "    }\n",
              "\n",
              "    .colab-df-convert {\n",
              "      background-color: #E8F0FE;\n",
              "      border: none;\n",
              "      border-radius: 50%;\n",
              "      cursor: pointer;\n",
              "      display: none;\n",
              "      fill: #1967D2;\n",
              "      height: 32px;\n",
              "      padding: 0 0 0 0;\n",
              "      width: 32px;\n",
              "    }\n",
              "\n",
              "    .colab-df-convert:hover {\n",
              "      background-color: #E2EBFA;\n",
              "      box-shadow: 0px 1px 2px rgba(60, 64, 67, 0.3), 0px 1px 3px 1px rgba(60, 64, 67, 0.15);\n",
              "      fill: #174EA6;\n",
              "    }\n",
              "\n",
              "    [theme=dark] .colab-df-convert {\n",
              "      background-color: #3B4455;\n",
              "      fill: #D2E3FC;\n",
              "    }\n",
              "\n",
              "    [theme=dark] .colab-df-convert:hover {\n",
              "      background-color: #434B5C;\n",
              "      box-shadow: 0px 1px 3px 1px rgba(0, 0, 0, 0.15);\n",
              "      filter: drop-shadow(0px 1px 2px rgba(0, 0, 0, 0.3));\n",
              "      fill: #FFFFFF;\n",
              "    }\n",
              "  </style>\n",
              "\n",
              "      <script>\n",
              "        const buttonEl =\n",
              "          document.querySelector('#df-384a0ed3-bf4b-4b45-bd63-5d95cb04e968 button.colab-df-convert');\n",
              "        buttonEl.style.display =\n",
              "          google.colab.kernel.accessAllowed ? 'block' : 'none';\n",
              "\n",
              "        async function convertToInteractive(key) {\n",
              "          const element = document.querySelector('#df-384a0ed3-bf4b-4b45-bd63-5d95cb04e968');\n",
              "          const dataTable =\n",
              "            await google.colab.kernel.invokeFunction('convertToInteractive',\n",
              "                                                     [key], {});\n",
              "          if (!dataTable) return;\n",
              "\n",
              "          const docLinkHtml = 'Like what you see? Visit the ' +\n",
              "            '<a target=\"_blank\" href=https://colab.research.google.com/notebooks/data_table.ipynb>data table notebook</a>'\n",
              "            + ' to learn more about interactive tables.';\n",
              "          element.innerHTML = '';\n",
              "          dataTable['output_type'] = 'display_data';\n",
              "          await google.colab.output.renderOutput(dataTable, element);\n",
              "          const docLink = document.createElement('div');\n",
              "          docLink.innerHTML = docLinkHtml;\n",
              "          element.appendChild(docLink);\n",
              "        }\n",
              "      </script>\n",
              "    </div>\n",
              "  </div>\n",
              "  "
            ]
          },
          "metadata": {},
          "execution_count": 11
        }
      ]
    },
    {
      "cell_type": "markdown",
      "source": [
        "## Building Your Model\n",
        "\n",
        "#### You will use the scikit-learn library to create your models. When coding, this library is written as sklearn.Scikit-learn is easily the most popular library for modeling the types of data typically stored in DataFrames.\n",
        "\n",
        "The steps to building and using a model are:\n",
        "\n",
        "Define: What type of model will it be? A decision tree? Some other type of model? Some other parameters of the model type are specified too.\n",
        "Fit: Capture patterns from provided data. This is the heart of modeling.\n",
        "Predict: Just what it sounds like\n",
        "Evaluate: Determine how accurate the model's predictions are."
      ],
      "metadata": {
        "id": "6S3HkZDnA5oy"
      }
    },
    {
      "cell_type": "code",
      "source": [
        "from sklearn.tree import DecisionTreeRegressor\n",
        "\n",
        "melbourne_model = DecisionTreeRegressor(random_state =1)\n",
        "\n",
        "melbourne_model.fit(X, y)"
      ],
      "metadata": {
        "colab": {
          "base_uri": "https://localhost:8080/"
        },
        "id": "6tywdA-JBCJa",
        "outputId": "4dcd54b2-3a13-404b-f87b-8e1f511ced91"
      },
      "execution_count": null,
      "outputs": [
        {
          "output_type": "execute_result",
          "data": {
            "text/plain": [
              "DecisionTreeRegressor(random_state=1)"
            ]
          },
          "metadata": {},
          "execution_count": 12
        }
      ]
    },
    {
      "cell_type": "code",
      "source": [
        "print(\"Making predictions for the following 5 houses: \")     # for all values melbourne_model.predict(X)\n",
        "print(X.head())\n",
        "print(\"The predictions are\")\n",
        "print(melbourne_model.predict(X.head()))"
      ],
      "metadata": {
        "colab": {
          "base_uri": "https://localhost:8080/"
        },
        "id": "ai5WuOkCNVHS",
        "outputId": "1cb4a8a7-2fba-48c6-e372-1fc0e1898204"
      },
      "execution_count": null,
      "outputs": [
        {
          "output_type": "stream",
          "name": "stdout",
          "text": [
            "Making predictions for the following 5 houses: \n",
            "   Rooms  Bathroom  Landsize  Lattitude  Longtitude\n",
            "1      2       1.0     156.0   -37.8079    144.9934\n",
            "2      3       2.0     134.0   -37.8093    144.9944\n",
            "4      4       1.0     120.0   -37.8072    144.9941\n",
            "6      3       2.0     245.0   -37.8024    144.9993\n",
            "7      2       1.0     256.0   -37.8060    144.9954\n",
            "The predictions are\n",
            "[1035000. 1465000. 1600000. 1876000. 1636000.]\n"
          ]
        }
      ]
    },
    {
      "cell_type": "markdown",
      "source": [
        "### Model fitting is a measure of how well a machine learning model generalizes to similar data to that on which it was trained.A model that is well-fitted produces more accurate outcomes. A model that is overfitted matches the data too closely"
      ],
      "metadata": {
        "id": "O0AjRJgVOXLu"
      }
    },
    {
      "cell_type": "markdown",
      "source": [
        "# Model Validation\n",
        "\n",
        "model validation to measure the quality of your model.Measuring model quality is the key to iteratively improving your models.\n",
        "\n",
        "There are many metrics for summarizing model quality, but we'll start with one called Mean Absolute Error (also called MAE).\n",
        "\n",
        "error = actual - Predicted\n",
        "With the MAE metric, we take the absolute value of each error. This converts each error to a positive number."
      ],
      "metadata": {
        "id": "db1YD8nLPwUC"
      }
    },
    {
      "cell_type": "code",
      "source": [
        "# Data Loading Code Hidden Here\n",
        "import pandas as pd\n",
        "\n",
        "# Load data\n",
        "melbourne_file_path = '/content/melb_data.csv'\n",
        "melbourne_data = pd.read_csv(melbourne_file_path)\n",
        "\n",
        "# Filter rows with missing price values\n",
        "filtered_melbourne_data = melbourne_data.dropna(axis=0)\n",
        "#filtered_melbourne_data\n",
        "\n",
        "#Choose target and features\n",
        "y = filtered_melbourne_data.Price\n",
        "melbourne_features = ['Rooms','Bathroom','Landsize','BuildingArea','YearBuilt','Lattitude','Longtitude']\n",
        "X = filtered_melbourne_data[melbourne_features]\n",
        "\n",
        "from sklearn.tree import DecisionTreeRegressor\n",
        "#Define model\n",
        "melbourne_model = DecisionTreeRegressor()\n",
        "#Fit model\n",
        "melbourne_model.fit(X,y)"
      ],
      "metadata": {
        "colab": {
          "base_uri": "https://localhost:8080/"
        },
        "id": "boI4eFKLT82W",
        "outputId": "9acc1943-20cc-4267-cdfe-bfecc2ec358e"
      },
      "execution_count": null,
      "outputs": [
        {
          "output_type": "execute_result",
          "data": {
            "text/plain": [
              "DecisionTreeRegressor()"
            ]
          },
          "metadata": {},
          "execution_count": 14
        }
      ]
    },
    {
      "cell_type": "markdown",
      "source": [
        "# Calculating the mean absolute error:"
      ],
      "metadata": {
        "id": "A6Zfr8NxfqYq"
      }
    },
    {
      "cell_type": "code",
      "source": [
        "# !pip install scikit-learn\n",
        "# !pip install sklearn.metrics\n",
        "from sklearn.metrics import mean_absolute_error\n",
        "\n",
        "predicted_home_prices = melbourne_model.predict(X)\n",
        "mean_absolute_error(y, predicted_home_prices)"
      ],
      "metadata": {
        "colab": {
          "base_uri": "https://localhost:8080/"
        },
        "id": "UJ9G__DKhfuA",
        "outputId": "9c156d99-fa97-4b65-b163-355a4594d58e"
      },
      "execution_count": null,
      "outputs": [
        {
          "output_type": "execute_result",
          "data": {
            "text/plain": [
              "434.71594577146544"
            ]
          },
          "metadata": {},
          "execution_count": 15
        }
      ]
    },
    {
      "cell_type": "markdown",
      "source": [
        "#### train_test_split to break up the data into two pieces"
      ],
      "metadata": {
        "id": "5Mmn0mwuh2ni"
      }
    },
    {
      "cell_type": "code",
      "source": [
        "from sklearn.model_selection import train_test_split\n",
        "\n",
        "#split data into training and validation data, for both features and target\n",
        "# The split is based on a random number generator. Supplying a numeric value to\n",
        "# the random_state argument guarantees we get the same split everytime we \n",
        "# run this script\n",
        "\n",
        "train_X, val_X, train_y, val_y = train_test_split(X,y, random_state = 0)\n",
        "\n",
        "#Define model\n",
        "melbourne_model = DecisionTreeRegressor()\n",
        "# Fit model\n",
        "melbourne_model.fit(train_X, train_y)\n",
        "\n",
        "# get predicted prices on validation data\n",
        "val_predictions = melbourne_model.predict(val_X)\n",
        "print(mean_absolute_error(val_y, val_predictions))"
      ],
      "metadata": {
        "colab": {
          "base_uri": "https://localhost:8080/"
        },
        "id": "e2KQWLUTnTjw",
        "outputId": "6127cec5-94c7-4dfe-8f6f-9c8346ad5567"
      },
      "execution_count": null,
      "outputs": [
        {
          "output_type": "stream",
          "name": "stdout",
          "text": [
            "261491.93867010975\n"
          ]
        }
      ]
    },
    {
      "cell_type": "markdown",
      "source": [
        "# Exercise: Model Validation"
      ],
      "metadata": {
        "id": "XoMFK9tYAoUD"
      }
    },
    {
      "cell_type": "code",
      "source": [
        "import pandas as pd\n",
        "from sklearn.tree import DecisionTreeRegressor\n",
        "melbourne_file_path = '/content/melb_data.csv'\n",
        "melbourne_data = pd.read_csv(melbourne_file_path)\n",
        "y = melbourne_data.Price\n",
        "melbourne_features = ['Rooms','Bathroom','Landsize','Lattitude','Longtitude']\n",
        "X =melbourne_data[melbourne_features]\n",
        "melbourne_model = DecisionTreeRegressor()\n",
        "melbourne_model.fit(X,y)\n",
        "\n",
        "print(\"First in-sample predictions:\",melbourne_model.predict(X.head()))\n",
        "print(\"Actual target values for those homes:\", y.head().tolist())"
      ],
      "metadata": {
        "colab": {
          "base_uri": "https://localhost:8080/"
        },
        "id": "gBqfUcUnHD0R",
        "outputId": "172a0a02-54d0-4718-950b-649a1b0496a2"
      },
      "execution_count": null,
      "outputs": [
        {
          "output_type": "stream",
          "name": "stdout",
          "text": [
            "First in-sample predictions: [1480000. 1035000. 1465000.  850000. 1600000.]\n",
            "Actual target values for those homes: [1480000.0, 1035000.0, 1465000.0, 850000.0, 1600000.0]\n"
          ]
        }
      ]
    },
    {
      "cell_type": "markdown",
      "source": [
        "## underfitting and Overfitting\n",
        "This is a phenomenon called overfitting, where a model matches the training data almost perfectly, but does poorly in validation and other new data\n",
        "\n",
        "When a model fails to capture important distinctions and patterns in the data, so it performs poorly even in training data, that is called underfitting.\n",
        "\n",
        "![Screenshot_20221225_232146.png](data:image/png;base64,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)"
      ],
      "metadata": {
        "id": "ze5dUWB1LUnA"
      }
    },
    {
      "cell_type": "markdown",
      "source": [
        "# Example\n",
        "\n",
        "There are a few alternatives for controlling the tree depth, and many allow for some routes through the tree to have greater depth than other routes. But the max_leaf_nodes argument provides a very sensible way to control overfitting vs underfitting. The more leaves we allow the model to make, the more we move from the underfitting area in the above graph to the overfitting area.\n",
        "\n",
        "We can use a utility function to help compare MAE scores from different values for max_leaf_nodes:"
      ],
      "metadata": {
        "id": "lHu0cWMPN049"
      }
    },
    {
      "cell_type": "code",
      "source": [
        "from sklearn.metrics import mean_absolute_error\n",
        "from sklearn.tree import DecisionTreeRegressor\n",
        "\n",
        "def get_mae(max_leaf_nodes, train_X, val_X, train_y, val_y):\n",
        "  model = DecisionTreeRegressor(max_leaf_nodes = max_leaf_nodes, random_state=0)\n",
        "  model.fit(train_X, train_y)\n",
        "  preds_val = model.predict(val_X)\n",
        "  mae = mean_absolute_error(val_y, preds_val)\n",
        "  return(mae)"
      ],
      "metadata": {
        "id": "ty7h2VXpVUBS"
      },
      "execution_count": null,
      "outputs": []
    },
    {
      "cell_type": "code",
      "source": [
        "# Data Loading Code Runs At This Point\n",
        "import pandas as pd\n",
        "\n",
        "# Load data\n",
        "melbourne_file_path = '/content/melb_data.csv'\n",
        "melbourne_data = pd.read_csv(melbourne_file_path)\n",
        "# Filter rows with missing values\n",
        "filtered_melbourne_data = melbourne_data.dropna(axis = 0)\n",
        "# Choose target and features\n",
        "y = filtered_melbourne_data.Price \n",
        "melbourne_features = ['Rooms','Bathroom','Landsize','BuildingArea','YearBuilt','Lattitude','Longtitude']\n",
        "X = filtered_melbourne_data[melbourne_features]\n",
        "\n",
        "from sklearn.model_selection import train_test_split\n",
        "\n",
        "#split data into training and validation data, for both features and target\n",
        "train_X, val_X, train_y, val_y = train_test_split(X, y, random_state = 0)"
      ],
      "metadata": {
        "id": "z537VpFnrLbT"
      },
      "execution_count": null,
      "outputs": []
    },
    {
      "cell_type": "code",
      "source": [
        "# compare MAE with differing values of max_leaf_nodes\n",
        "for max_leaf_nodes in [5,50, 500, 5000]:\n",
        "   my_mae = get_mae(max_leaf_nodes, train_X, val_X, train_y, val_y)\n",
        "   print(\"Max leaf nodes: %d \\t\\t Mean Absolute Error: %d\" %(max_leaf_nodes, my_mae))"
      ],
      "metadata": {
        "colab": {
          "base_uri": "https://localhost:8080/"
        },
        "id": "3weLjFCRmDR5",
        "outputId": "78aeb431-da83-4f23-ba54-d9ad54d886e7"
      },
      "execution_count": null,
      "outputs": [
        {
          "output_type": "stream",
          "name": "stdout",
          "text": [
            "Max leaf nodes: 5 \t\t Mean Absolute Error: 347380\n",
            "Max leaf nodes: 50 \t\t Mean Absolute Error: 258171\n",
            "Max leaf nodes: 500 \t\t Mean Absolute Error: 243495\n",
            "Max leaf nodes: 5000 \t\t Mean Absolute Error: 254983\n"
          ]
        }
      ]
    },
    {
      "cell_type": "code",
      "source": [
        "# Here is a short solution with a dict comprehension.\n",
        "# The lesson gives an example of how to do this with an explicit loop.\n",
        "candidate_max_leaf_nodes = [5, 25, 50, 100, 250, 500]\n",
        "scores = { leaf_size: get_mae(leaf_size, train_X, val_X, train_y, val_y) for leaf_size in candidate_max_leaf_nodes}\n",
        "#print(\"leaf_size: %d \\t\\t Mean Absolute Error: %d\" %(leaf_size, scores))\n",
        "best_tree_size = min(scores, key=scores.get)\n",
        "print(best_tree_size)"
      ],
      "metadata": {
        "colab": {
          "base_uri": "https://localhost:8080/"
        },
        "id": "0ps6CG7uu2rX",
        "outputId": "e80b3f13-8009-4d1c-9704-7d441480d814"
      },
      "execution_count": null,
      "outputs": [
        {
          "output_type": "stream",
          "name": "stdout",
          "text": [
            "500\n"
          ]
        }
      ]
    },
    {
      "cell_type": "code",
      "source": [
        "# Fit the model with best_tree_size. Fill in argument to make optimal size\n",
        "final_model = DecisionTreeRegressor(max_leaf_nodes = best_tree_size, random_state =1 )\n",
        "final_model.fit(X, y)"
      ],
      "metadata": {
        "colab": {
          "base_uri": "https://localhost:8080/"
        },
        "id": "9djVSHjQz3iN",
        "outputId": "0beb512b-a4e9-43ec-82a9-b4832a261ed9"
      },
      "execution_count": null,
      "outputs": [
        {
          "output_type": "execute_result",
          "data": {
            "text/plain": [
              "DecisionTreeRegressor(max_leaf_nodes=500, random_state=1)"
            ]
          },
          "metadata": {},
          "execution_count": 22
        }
      ]
    },
    {
      "cell_type": "markdown",
      "source": [
        "### youtube, Understanding Mean Absolute Error and Mean Squared Error as ML metrices and loss functions\n",
        "\n",
        "https://youtu.be/fk7bzKFDmk8\n",
        "\n",
        "yet to do matplotlib"
      ],
      "metadata": {
        "id": "jZkvd5-oYhdV"
      }
    },
    {
      "cell_type": "code",
      "source": [
        "# understaning Mean Absolute Error and Mean Squared Error as ML metrices and loss functions\n",
        "\n",
        "\"\"\"\n",
        "MAE vs MSE for machine learning metrices and loss functions\n",
        "\"\"\"\n",
        "\n",
        "# Understanding MAE / MSE metrices\n",
        "import numpy as np\n",
        "\n",
        "true = [234,285,324,248,423,345,422,345,367,285]\n",
        "predicted = [248,310,340,265,403,325,400,322,387, 300]\n",
        "\n",
        "# # Let us define our own MAE function\n",
        "def mae(y_true, predictions):\n",
        "  y_true, predictions = np.array(y_true), np.array(predictions)\n",
        "  return np.mean(np.abs(y_true - predictions))\n",
        "\n",
        "print(mae(true,predicted))  \n",
        "\n",
        "# #Using pre-built function from sklearn\n",
        "from sklearn.metrics import mean_absolute_error\n",
        "print(mean_absolute_error(true, predicted))\n",
        "\n",
        "# #MSE \n",
        "mse = np.square(np.subtract(true,predicted)).mean()\n",
        "print(mse)\n",
        "\n",
        "from sklearn.metrics import mean_squared_error\n",
        "print(mean_squared_error(true, predicted))\n",
        "\n",
        "#############################################################\n",
        "\n",
        "true = [234,285,324,248,423,345,422,345,367,285]\n",
        "predicted = [450,310,340,265,403,325,400,322,387, 300]\n",
        "\n",
        "print(mae(true, predicted))\n",
        "print(mean_squared_error(true, predicted))\n",
        "\n",
        "##############################################################\n"
      ],
      "metadata": {
        "colab": {
          "base_uri": "https://localhost:8080/"
        },
        "id": "jGW0Ss8P0MVy",
        "outputId": "74f80bd8-0855-451d-a67a-45b6df1bab39"
      },
      "execution_count": null,
      "outputs": [
        {
          "output_type": "stream",
          "name": "stdout",
          "text": [
            "19.2\n",
            "19.2\n",
            "380.4\n",
            "380.4\n",
            "39.4\n",
            "5026.4\n"
          ]
        }
      ]
    },
    {
      "cell_type": "markdown",
      "source": [
        "# Exercise: Underfitting and Overfitting\n",
        "\n",
        "#### optimize the size of the tree to make better predictions"
      ],
      "metadata": {
        "id": "Zf5crsxwEmBj"
      }
    },
    {
      "cell_type": "markdown",
      "source": [
        "# Random Forests\n",
        "##### Decision Tree models, which are not sophisticated by modern machine learning standards.Random forests (more sophisticated machine learning algorithm) to improve your models even more"
      ],
      "metadata": {
        "id": "vdzD-IbNszzt"
      }
    },
    {
      "cell_type": "code",
      "source": [
        "import pandas as pd\n",
        "\n",
        "# Load data\n",
        "melbourne_file_path = '/content/melb_data.csv'\n",
        "melbourne_data = pd.read_csv(melbourne_file_path)\n",
        "#Filter rows with missing values\n",
        "melbourne_data = melbourne_data.dropna(axis = 0)\n",
        "#Choose target and features\n",
        "y = melbourne_data.Price \n",
        "melbourne_features = ['Rooms','Bathroom','Landsize','BuildingArea','YearBuilt','Lattitude','Longtitude']\n",
        "X = melbourne_data[melbourne_features]\n",
        "\n",
        "from sklearn.model_selection import train_test_split\n",
        "\n",
        "# split data into training and validata data, for both features and target\n",
        "# The split is based on a random number generator. Supplying numeric value to\n",
        "#the random_state argument guarantees we get the same split every time we\n",
        "# run this script.\n",
        "train_X, val_X, train_y, val_y = train_test_split(X, y, random_state = 0)\n"
      ],
      "metadata": {
        "id": "R5RTGLsV0ejF"
      },
      "execution_count": null,
      "outputs": []
    },
    {
      "cell_type": "markdown",
      "source": [
        "We build a random forest model similarly to how we built a decision tree in scikit-learn - this time using the RandomForestRegressor class instead of DecisionTreeRegressor."
      ],
      "metadata": {
        "id": "pq6t5MG8CkoF"
      }
    },
    {
      "cell_type": "code",
      "source": [
        "from sklearn.ensemble import RandomForestRegressor\n",
        "from sklearn.metrics import mean_absolute_error\n",
        "\n",
        "forest_model = RandomForestRegressor(random_state = 1)   \n",
        "forest_model.fit(train_X, train_y)\n",
        "melb_preds = forest_model.predict(val_X)\n",
        "print(mean_absolute_error(val_y, melb_preds))"
      ],
      "metadata": {
        "colab": {
          "base_uri": "https://localhost:8080/"
        },
        "id": "bRhML_AJCmiX",
        "outputId": "86670536-e5b5-4ef6-b214-b54161be126a"
      },
      "execution_count": null,
      "outputs": [
        {
          "output_type": "stream",
          "name": "stdout",
          "text": [
            "191669.7536453626\n"
          ]
        }
      ]
    },
    {
      "cell_type": "code",
      "source": [
        "from sklearn.ensemble import RandomForestRegressor\n",
        "from sklearn.metrics import mean_absolute_error\n",
        "\n",
        "forest_model = RandomForestRegressor(random_state = 1)   \n",
        "forest_model.fit(X, y)\n",
        "melb_preds = forest_model.predict(val_X)\n",
        "print(mean_absolute_error(val_y, melb_preds))"
      ],
      "metadata": {
        "colab": {
          "base_uri": "https://localhost:8080/"
        },
        "id": "Nq8UUD-bFUii",
        "outputId": "6d3651b4-3151-4b5f-89bb-0591f1718243"
      },
      "execution_count": null,
      "outputs": [
        {
          "output_type": "stream",
          "name": "stdout",
          "text": [
            "71064.5192843309\n"
          ]
        }
      ]
    },
    {
      "cell_type": "markdown",
      "source": [
        "### There is likely room for further improvement, but this is a big improvement over the best decision tree error of 250,000. There are parameters which allow you to change the performance of the Random Forest much as we changed the maximum depth of the single decision tree. But one of the best features of Random Forest models is that they generally work reasonably even without this tuning."
      ],
      "metadata": {
        "id": "b4mAn5_oEdoG"
      }
    },
    {
      "cell_type": "markdown",
      "source": [
        "### Exercise: Machine learning Competition"
      ],
      "metadata": {
        "id": "dzw-s0sNFd-n"
      }
    },
    {
      "cell_type": "code",
      "source": [
        "# output = pd.DataFrame({'Id': test_data.Id,\n",
        "#                        'SalePrice': test_preds})\n",
        "# output.to_csv('submission.csv',index=False)"
      ],
      "metadata": {
        "id": "4bnRq_IUJNGR"
      },
      "execution_count": null,
      "outputs": []
    }
  ]
}