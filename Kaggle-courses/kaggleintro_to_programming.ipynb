{
  "nbformat": 4,
  "nbformat_minor": 0,
  "metadata": {
    "colab": {
      "provenance": [],
      "authorship_tag": "ABX9TyNhEgjUo8A+MPj0sAJoaM9G",
      "include_colab_link": true
    },
    "kernelspec": {
      "name": "python3",
      "display_name": "Python 3"
    },
    "language_info": {
      "name": "python"
    }
  },
  "cells": [
    {
      "cell_type": "markdown",
      "metadata": {
        "id": "view-in-github",
        "colab_type": "text"
      },
      "source": [
        "<a href=\"https://colab.research.google.com/github/Nukaraju2003/Kaggle-courses/blob/main/kaggleintro_to_programming.ipynb\" target=\"_parent\"><img src=\"https://colab.research.google.com/assets/colab-badge.svg\" alt=\"Open In Colab\"/></a>"
      ]
    },
    {
      "cell_type": "code",
      "execution_count": null,
      "metadata": {
        "colab": {
          "base_uri": "https://localhost:8080/"
        },
        "id": "k1MNJaAPFG6x",
        "outputId": "ebe45446-74be-4100-957d-814e1be9fe8b"
      },
      "outputs": [
        {
          "output_type": "stream",
          "name": "stdout",
          "text": [
            "Hello, World\n"
          ]
        }
      ],
      "source": [
        "print(\"Hello, World\")"
      ]
    },
    {
      "cell_type": "code",
      "source": [
        "print(1+2)"
      ],
      "metadata": {
        "colab": {
          "base_uri": "https://localhost:8080/"
        },
        "id": "46zg_uuRFb06",
        "outputId": "7ffe0019-712b-45d4-d33e-1a52df6da7c8"
      },
      "execution_count": null,
      "outputs": [
        {
          "output_type": "stream",
          "name": "stdout",
          "text": [
            "3\n"
          ]
        }
      ]
    },
    {
      "cell_type": "code",
      "source": [
        "test_var = 4 + 5\n",
        "print(test_var)"
      ],
      "metadata": {
        "colab": {
          "base_uri": "https://localhost:8080/"
        },
        "id": "mMx5Wa2iFh99",
        "outputId": "519b105d-a9e7-49fb-def1-ca3b24abe6ed"
      },
      "execution_count": null,
      "outputs": [
        {
          "output_type": "stream",
          "name": "stdout",
          "text": [
            "9\n"
          ]
        }
      ]
    },
    {
      "cell_type": "code",
      "source": [
        "my_var = 100\n",
        "my_var = my_var + 3\n",
        "print(my_var)\n"
      ],
      "metadata": {
        "colab": {
          "base_uri": "https://localhost:8080/"
        },
        "id": "HzEP6wWcGZwv",
        "outputId": "64666072-1b5b-4245-dbd1-5527a9c2afd6"
      },
      "execution_count": null,
      "outputs": [
        {
          "output_type": "stream",
          "name": "stdout",
          "text": [
            "103\n"
          ]
        }
      ]
    },
    {
      "cell_type": "code",
      "source": [
        "# Create variables\n",
        "num_years = 4\n",
        "days_per_year = 365 \n",
        "hours_per_day = 24\n",
        "mins_per_hour = 60\n",
        "secs_per_min = 60\n",
        "\n",
        "# Calculate number of seconds in four years\n",
        "total_secs = secs_per_min * mins_per_hour * hours_per_day * days_per_year * num_years\n",
        "print(total_secs)"
      ],
      "metadata": {
        "colab": {
          "base_uri": "https://localhost:8080/"
        },
        "id": "gyzLqLDLG5YE",
        "outputId": "c5cea5ca-10bf-4055-f2a7-1f8f2e6e493a"
      },
      "execution_count": null,
      "outputs": [
        {
          "output_type": "stream",
          "name": "stdout",
          "text": [
            "126144000\n"
          ]
        }
      ]
    },
    {
      "cell_type": "code",
      "source": [
        "# Update to include leap years\n",
        "days_per_year = 365.25\n",
        "\n",
        "# Calculate number of seconds in four years\n",
        "total_secs = secs_per_min * mins_per_hour * hours_per_day * days_per_year * num_years\n",
        "print(total_secs)"
      ],
      "metadata": {
        "colab": {
          "base_uri": "https://localhost:8080/"
        },
        "id": "vzAh9CjSG69r",
        "outputId": "36621aa3-493a-4473-9714-18794d873d49"
      },
      "execution_count": null,
      "outputs": [
        {
          "output_type": "stream",
          "name": "stdout",
          "text": [
            "126230400.0\n"
          ]
        }
      ]
    },
    {
      "cell_type": "code",
      "source": [
        "\n",
        "print(hours_per_day)"
      ],
      "metadata": {
        "colab": {
          "base_uri": "https://localhost:8080/"
        },
        "id": "1UP-NGDZHGA0",
        "outputId": "9338d0a2-18e5-4b70-be0d-816582145a0d"
      },
      "execution_count": null,
      "outputs": [
        {
          "output_type": "stream",
          "name": "stdout",
          "text": [
            "24\n"
          ]
        }
      ]
    },
    {
      "cell_type": "markdown",
      "source": [
        "## Exercise: Arithmetic and Variables "
      ],
      "metadata": {
        "id": "6iQYdRU6HheS"
      }
    },
    {
      "cell_type": "code",
      "source": [
        "# Load the data from the titanic competition\n",
        "import pandas as pd\n",
        "#titanic_data = pd.read_csv(\"../input/titanic/train.csv\")\n",
        "\n",
        "# Show the first five rows of the data\n",
        "#titanic_data.head()"
      ],
      "metadata": {
        "id": "g3GiGpo6HtZ4"
      },
      "execution_count": null,
      "outputs": []
    },
    {
      "cell_type": "code",
      "source": [
        "# Number of total passengers\n",
        "#total = len(titanic_data)\n",
        "#print(total)\n",
        "\n",
        "# Number of passengers who survived\n",
        "#survived = (titanic_data.Survived == 1).sum()\n",
        "#print(survived)\n",
        "\n",
        "# Number of passengers under 18\n",
        "#minors = (titanic_data.Age < 18).sum()\n",
        "#print(minors)"
      ],
      "metadata": {
        "id": "iqh_nEM_J44p"
      },
      "execution_count": null,
      "outputs": []
    },
    {
      "cell_type": "code",
      "source": [
        "# total = 891\n",
        "# survived = 342\n",
        "# minors = 113\n",
        "# survived_fraction = survived/total\n",
        "# print(survived_fraction)\n",
        "# minors_fraction = minors/total\n",
        "# print(minors_fraction)"
      ],
      "metadata": {
        "id": "NAQkkXxmJ-41"
      },
      "execution_count": null,
      "outputs": []
    },
    {
      "cell_type": "markdown",
      "source": [
        "# Functions\n"
      ],
      "metadata": {
        "id": "RK9PHV99KuxN"
      }
    },
    {
      "cell_type": "code",
      "source": [
        "def add_three(input_var):\n",
        "  output_var = input_var + 3\n",
        "  return output_var"
      ],
      "metadata": {
        "id": "Fzjx52L3LHlU"
      },
      "execution_count": null,
      "outputs": []
    },
    {
      "cell_type": "markdown",
      "source": [
        "![Screenshot_20221214_114027.png](data:image/png;base64,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)"
      ],
      "metadata": {
        "id": "0JGqmPdXOahe"
      }
    },
    {
      "cell_type": "code",
      "source": [
        "# Run the function with 10 as input\n",
        "new_number = add_three(10)\n",
        "\n",
        "# Check that the value is 13, as expected\n",
        "print(new_number)"
      ],
      "metadata": {
        "colab": {
          "base_uri": "https://localhost:8080/"
        },
        "id": "vnVDn-BlRkf0",
        "outputId": "30ea8b9d-7c51-4a6d-cf3b-b3a570b42f03"
      },
      "execution_count": null,
      "outputs": [
        {
          "output_type": "stream",
          "name": "stdout",
          "text": [
            "13\n"
          ]
        }
      ]
    },
    {
      "cell_type": "code",
      "source": [
        "def get_pay(num_hours):\n",
        "    # Pre-tax pay, based on receiving $15/hour\n",
        "    pay_pretax = num_hours * 15\n",
        "    # After-tax pay, based on being in 12% tax bracket\n",
        "    pay_aftertax = pay_pretax * (1 - .12)\n",
        "    return pay_aftertax\n",
        "\n",
        "# Calculate pay based on working 40 hours\n",
        "pay_fulltime = get_pay(40)\n",
        "print(pay_fulltime)    \n",
        "\n",
        "pay_parttime = get_pay(32)\n",
        "print(pay_parttime)"
      ],
      "metadata": {
        "colab": {
          "base_uri": "https://localhost:8080/"
        },
        "id": "x2ReBsxMSyXy",
        "outputId": "0aac68d9-ec6b-43c8-cd7c-df31b95ce4f4"
      },
      "execution_count": null,
      "outputs": [
        {
          "output_type": "stream",
          "name": "stdout",
          "text": [
            "528.0\n",
            "422.4\n"
          ]
        }
      ]
    },
    {
      "cell_type": "markdown",
      "source": [
        "## Functions with multiple arguments"
      ],
      "metadata": {
        "id": "vF5G_3cPULcS"
      }
    },
    {
      "cell_type": "code",
      "source": [
        "def get_pay_with_more_inputs(num_hours, hourly_wage, tax_bracket):\n",
        "    # Pre-tax pay\n",
        "    pay_pretax = num_hours * hourly_wage\n",
        "    # After-tax pay\n",
        "    pay_aftertax = pay_pretax * (1 - tax_bracket)\n",
        "    return pay_aftertax\n",
        "\n",
        "higher_pay_aftertax = get_pay_with_more_inputs(40, 24, .22)\n",
        "print(higher_pay_aftertax)    "
      ],
      "metadata": {
        "colab": {
          "base_uri": "https://localhost:8080/"
        },
        "id": "Lw-gV8TjUbLY",
        "outputId": "ddb533c2-8705-43b2-c4e2-ec0f0d1d5598"
      },
      "execution_count": null,
      "outputs": [
        {
          "output_type": "stream",
          "name": "stdout",
          "text": [
            "748.8000000000001\n"
          ]
        }
      ]
    },
    {
      "cell_type": "code",
      "source": [
        "same_pay_fulltime = get_pay_with_more_inputs(40, 15, .12)\n",
        "print(same_pay_fulltime)"
      ],
      "metadata": {
        "colab": {
          "base_uri": "https://localhost:8080/"
        },
        "id": "icNbT82ZVCk9",
        "outputId": "4fe9cc90-f1f8-4b8e-a0a5-c49635d6a1ab"
      },
      "execution_count": null,
      "outputs": [
        {
          "output_type": "stream",
          "name": "stdout",
          "text": [
            "528.0\n"
          ]
        }
      ]
    },
    {
      "cell_type": "markdown",
      "source": [
        "## Functions with no arguments"
      ],
      "metadata": {
        "id": "pa9Kate7VGG-"
      }
    },
    {
      "cell_type": "code",
      "source": [
        "# Define the function with no arguments and with no return\n",
        "def print_hello():\n",
        "  print(\"Hello, you!\")\n",
        "  print(\"Good morning!\")\n",
        "\n",
        "print_hello()  "
      ],
      "metadata": {
        "colab": {
          "base_uri": "https://localhost:8080/"
        },
        "id": "oXFdFWQ4VrrW",
        "outputId": "33fe2bda-0f2e-4b90-e872-27f1816848d3"
      },
      "execution_count": null,
      "outputs": [
        {
          "output_type": "stream",
          "name": "stdout",
          "text": [
            "Hello, you!\n",
            "Good morning!\n"
          ]
        }
      ]
    },
    {
      "cell_type": "markdown",
      "source": [
        "## Exercise"
      ],
      "metadata": {
        "id": "IBeMfL3rWWOC"
      }
    },
    {
      "cell_type": "code",
      "source": [
        "def get_expected_cost(beds, baths):\n",
        "    value =80000+(30000*beds+10000*baths)\n",
        "    return value\n",
        "total_cost=get_expected_cost(1,1)\n",
        "print(total_cost)\n"
      ],
      "metadata": {
        "colab": {
          "base_uri": "https://localhost:8080/"
        },
        "id": "dcx3olO5WqWI",
        "outputId": "bd1a7b11-c710-4b91-9c65-830a96ba095c"
      },
      "execution_count": null,
      "outputs": [
        {
          "output_type": "stream",
          "name": "stdout",
          "text": [
            "120000\n"
          ]
        }
      ]
    },
    {
      "cell_type": "code",
      "source": [
        "option_one = get_expected_cost(2,3)\n",
        "option_two = get_expected_cost(3,2)\n",
        "option_three = get_expected_cost(3,3)\n",
        "option_four = get_expected_cost(3,4)\n",
        "\n",
        "print(option_one)\n",
        "print(option_two)\n",
        "print(option_three)\n",
        "print(option_four)"
      ],
      "metadata": {
        "colab": {
          "base_uri": "https://localhost:8080/"
        },
        "id": "6oDqI3_XWzB2",
        "outputId": "d24ffe96-ab77-42b4-9a8c-de6513e6275c"
      },
      "execution_count": null,
      "outputs": [
        {
          "output_type": "stream",
          "name": "stdout",
          "text": [
            "170000\n",
            "190000\n",
            "200000\n",
            "210000\n"
          ]
        }
      ]
    },
    {
      "cell_type": "code",
      "source": [
        "def get_expected_cost(beds,baths):\n",
        "    value=80000+(30000*beds+10000*baths)\n",
        "    return value\n",
        "option_1=get_expected_cost(2,3)\n",
        "option_2=get_expected_cost(3,2)\n",
        "option_3=get_expected_cost(3,3)\n",
        "option_4=get_expected_cost(3,4)\n",
        "print(option_1)\n",
        "print(option_2)\n",
        "print(option_3)\n",
        "print(option_4)"
      ],
      "metadata": {
        "colab": {
          "base_uri": "https://localhost:8080/"
        },
        "id": "DuH1Qi3uW5jC",
        "outputId": "3b4a84b4-4c0b-4c15-d24b-14ac0d16bf20"
      },
      "execution_count": null,
      "outputs": [
        {
          "output_type": "stream",
          "name": "stdout",
          "text": [
            "170000\n",
            "190000\n",
            "200000\n",
            "210000\n"
          ]
        }
      ]
    },
    {
      "cell_type": "code",
      "source": [
        "def get_cost(sqft_walls,sqft_ceiling,sqft_per_gallon,cost_per_gallon):\n",
        "    total_sqft=sqft_walls+sqft_ceiling\n",
        "    num_gallons=total_sqft/sqft_per_gallon\n",
        "    cost=num_gallons*cost_per_gallon\n",
        "    return cost\n",
        "\n",
        "project_cost = get_cost(432,144,400,15)\n",
        "print(project_cost)    \n"
      ],
      "metadata": {
        "colab": {
          "base_uri": "https://localhost:8080/"
        },
        "id": "BKXRtNeJ8a0r",
        "outputId": "0da4e572-e1b8-47e5-a3cf-1a592eae488a"
      },
      "execution_count": null,
      "outputs": [
        {
          "output_type": "stream",
          "name": "stdout",
          "text": [
            "21.599999999999998\n"
          ]
        }
      ]
    },
    {
      "cell_type": "code",
      "source": [
        "import math\n",
        "test_value = 2.17\n",
        "rounded_value = math.ceil(test_value)\n",
        "print(rounded_value)"
      ],
      "metadata": {
        "colab": {
          "base_uri": "https://localhost:8080/"
        },
        "id": "nyz4X0Xw-G3X",
        "outputId": "569bb2f5-dfb7-4ddc-cc6f-1df96ba98761"
      },
      "execution_count": null,
      "outputs": [
        {
          "output_type": "stream",
          "name": "stdout",
          "text": [
            "3\n"
          ]
        }
      ]
    },
    {
      "cell_type": "code",
      "source": [
        "def round_up_and_divide_by_three(num):\n",
        "    new_value = math.ceil(num)\n",
        "    final_value = new_value / 3\n",
        "    return final_value\n",
        "\n",
        "value = round_up_and_divide_by_three(6) \n",
        "print(value)   "
      ],
      "metadata": {
        "colab": {
          "base_uri": "https://localhost:8080/"
        },
        "id": "GJdlKy8D_J4S",
        "outputId": "6c6c2f2b-4c7d-481c-ea16-a6832dd74b7e"
      },
      "execution_count": null,
      "outputs": [
        {
          "output_type": "stream",
          "name": "stdout",
          "text": [
            "2.0\n"
          ]
        }
      ]
    },
    {
      "cell_type": "code",
      "source": [
        "def get_actual_cost(sqft_walls, sqft_ceiling, sqft_per_gallon, cost_per_gallon):\n",
        "    cost = (math.ceil((sqft_walls+sqft_ceiling)/sqft_per_gallon))*cost_per_gallon\n",
        "    return cost\n"
      ],
      "metadata": {
        "id": "fh6rrkCN_sRA"
      },
      "execution_count": null,
      "outputs": []
    },
    {
      "cell_type": "code",
      "source": [
        "def get_cost(sqft_walls,sqft_ceiling,sqft_per_gallon,cost_per_gallon):\n",
        "    total_sqft=sqft_walls+sqft_ceiling\n",
        "    num_gallons=total_sqft/sqft_per_gallon\n",
        "    num1_gallons=math.ceil(num_gallons)\n",
        "    cost=num1_gallons*cost_per_gallon\n",
        "    return cost\n",
        "project_cost=get_cost(432,144,400,15)\n",
        "print(project_cost)"
      ],
      "metadata": {
        "colab": {
          "base_uri": "https://localhost:8080/"
        },
        "id": "T7X3xFAZAB9e",
        "outputId": "fd126079-e2dd-4df5-f72b-748b43a436cc"
      },
      "execution_count": null,
      "outputs": [
        {
          "output_type": "stream",
          "name": "stdout",
          "text": [
            "30\n"
          ]
        }
      ]
    },
    {
      "cell_type": "markdown",
      "source": [
        "## Data Types\n"
      ],
      "metadata": {
        "id": "kqXzxHR5ADCl"
      }
    },
    {
      "cell_type": "code",
      "source": [
        "almost_pi = 22/7\n",
        "print(almost_pi)\n",
        "print(type(almost_pi))"
      ],
      "metadata": {
        "colab": {
          "base_uri": "https://localhost:8080/"
        },
        "id": "pndpONW4ARNK",
        "outputId": "783d7281-e310-4e88-d739-b7b65852d5e1"
      },
      "execution_count": null,
      "outputs": [
        {
          "output_type": "stream",
          "name": "stdout",
          "text": [
            "3.142857142857143\n",
            "<class 'float'>\n"
          ]
        }
      ]
    },
    {
      "cell_type": "code",
      "source": [
        "z_three = (1 < 2)\n",
        "print(z_three)\n",
        "print(type(z_three))"
      ],
      "metadata": {
        "colab": {
          "base_uri": "https://localhost:8080/"
        },
        "id": "YksVaJ8nASpi",
        "outputId": "4b7e3fc7-5722-45f3-b6ca-e2a967f07216"
      },
      "execution_count": null,
      "outputs": [
        {
          "output_type": "stream",
          "name": "stdout",
          "text": [
            "True\n",
            "<class 'bool'>\n"
          ]
        }
      ]
    },
    {
      "cell_type": "code",
      "source": [
        "z_five = not z_three\n",
        "print(z_five)\n",
        "print(type(z_five))"
      ],
      "metadata": {
        "colab": {
          "base_uri": "https://localhost:8080/"
        },
        "id": "dUxhoVnhAbIi",
        "outputId": "b65f3304-dcde-4485-c56e-331b40c0cfb6"
      },
      "execution_count": null,
      "outputs": [
        {
          "output_type": "stream",
          "name": "stdout",
          "text": [
            "False\n",
            "<class 'bool'>\n"
          ]
        }
      ]
    },
    {
      "cell_type": "markdown",
      "source": [
        "## Strings"
      ],
      "metadata": {
        "id": "A4VPD3ZXBEjU"
      }
    },
    {
      "cell_type": "code",
      "source": [
        "w = \"Hello, Python!\"\n",
        "print(w)\n",
        "print(type(w))"
      ],
      "metadata": {
        "colab": {
          "base_uri": "https://localhost:8080/"
        },
        "id": "fuIXjmIABSY1",
        "outputId": "3d025ec2-0a81-4ef1-aff5-f044e28be9ce"
      },
      "execution_count": null,
      "outputs": [
        {
          "output_type": "stream",
          "name": "stdout",
          "text": [
            "Hello, Python!\n",
            "<class 'str'>\n"
          ]
        }
      ]
    },
    {
      "cell_type": "code",
      "source": [
        "print(len(w))"
      ],
      "metadata": {
        "colab": {
          "base_uri": "https://localhost:8080/"
        },
        "id": "0Dqf4FQ5BVig",
        "outputId": "3bc768b5-6bc7-4d88-906a-871121494733"
      },
      "execution_count": null,
      "outputs": [
        {
          "output_type": "stream",
          "name": "stdout",
          "text": [
            "14\n"
          ]
        }
      ]
    },
    {
      "cell_type": "code",
      "source": [
        "shortest_string = \"\"\n",
        "print(type(shortest_string))\n",
        "print(len(shortest_string))"
      ],
      "metadata": {
        "colab": {
          "base_uri": "https://localhost:8080/"
        },
        "id": "B88shqaiBa3G",
        "outputId": "6217f769-5572-44c6-924f-c6bac67367e9"
      },
      "execution_count": null,
      "outputs": [
        {
          "output_type": "stream",
          "name": "stdout",
          "text": [
            "<class 'str'>\n",
            "0\n"
          ]
        }
      ]
    },
    {
      "cell_type": "code",
      "source": [
        "my_number = \"1.12321\"\n",
        "print(my_number)\n",
        "print(type(my_number))"
      ],
      "metadata": {
        "colab": {
          "base_uri": "https://localhost:8080/"
        },
        "id": "x2jMuyR7Bdl3",
        "outputId": "049e26d2-f4eb-405d-cd50-202cab244646"
      },
      "execution_count": null,
      "outputs": [
        {
          "output_type": "stream",
          "name": "stdout",
          "text": [
            "1.12321\n",
            "<class 'str'>\n"
          ]
        }
      ]
    },
    {
      "cell_type": "code",
      "source": [
        "also_my_number = float(my_number)\n",
        "print(also_my_number)\n",
        "print(type(also_my_number))"
      ],
      "metadata": {
        "colab": {
          "base_uri": "https://localhost:8080/"
        },
        "id": "pI1S3vR_BkQP",
        "outputId": "19f80ad7-3a96-4ab5-9313-e81ce3cdb5ef"
      },
      "execution_count": null,
      "outputs": [
        {
          "output_type": "stream",
          "name": "stdout",
          "text": [
            "1.12321\n",
            "<class 'float'>\n"
          ]
        }
      ]
    },
    {
      "cell_type": "code",
      "source": [
        "new_string = \"abc\" + \"def\"\n",
        "print(new_string)\n",
        "print(type(new_string))"
      ],
      "metadata": {
        "colab": {
          "base_uri": "https://localhost:8080/"
        },
        "id": "u6CrjuurBvEo",
        "outputId": "124060f0-fb11-4b25-ff9f-79c14e4044fd"
      },
      "execution_count": null,
      "outputs": [
        {
          "output_type": "stream",
          "name": "stdout",
          "text": [
            "abcdef\n",
            "<class 'str'>\n"
          ]
        }
      ]
    },
    {
      "cell_type": "code",
      "source": [
        "newest_string = \"abc\" * 3        # Note that you cannot multiply a string by a float! Trying to do so will return an error.\n",
        "print(newest_string)\n",
        "print(type(newest_string))"
      ],
      "metadata": {
        "colab": {
          "base_uri": "https://localhost:8080/"
        },
        "id": "PXxZVbsAB0DJ",
        "outputId": "ceebc951-7d18-40eb-b22a-8f70116b9508"
      },
      "execution_count": null,
      "outputs": [
        {
          "output_type": "stream",
          "name": "stdout",
          "text": [
            "abcabcabc\n",
            "<class 'str'>\n"
          ]
        }
      ]
    },
    {
      "cell_type": "markdown",
      "source": [
        "## Exercise: Data Types"
      ],
      "metadata": {
        "id": "3G1zHyyTB56v"
      }
    },
    {
      "cell_type": "code",
      "source": [
        "print(3 * True)\n",
        "print(-3.1 * True)\n",
        "print(type(\"abc\" * False))\n",
        "print(len(\"abc\" * False))"
      ],
      "metadata": {
        "colab": {
          "base_uri": "https://localhost:8080/"
        },
        "id": "4m8W9mm1CMOX",
        "outputId": "1453207c-123d-4f9d-9873-3f150dcaac70"
      },
      "execution_count": null,
      "outputs": [
        {
          "output_type": "stream",
          "name": "stdout",
          "text": [
            "3\n",
            "-3.1\n",
            "<class 'str'>\n",
            "0\n"
          ]
        }
      ]
    },
    {
      "cell_type": "code",
      "source": [
        "def get_expected_cost(beds,baths,has_basement):\n",
        "        cost =80000+(30000*beds)+(10000*baths)+(40000*has_basement)\n",
        "        return cost\n",
        "print(get_expected_cost(1,1,False))\n",
        "print(get_expected_cost(2,1,True))"
      ],
      "metadata": {
        "colab": {
          "base_uri": "https://localhost:8080/"
        },
        "id": "fxIehE_zCe7M",
        "outputId": "e63cc2f2-19a3-468d-959a-75e33c9985a9"
      },
      "execution_count": null,
      "outputs": [
        {
          "output_type": "stream",
          "name": "stdout",
          "text": [
            "120000\n",
            "190000\n"
          ]
        }
      ]
    },
    {
      "cell_type": "code",
      "source": [
        "print(False + False)\n",
        "print(True + False)\n",
        "print(False + True)\n",
        "print(True + True)\n",
        "print(False + True + True + True)"
      ],
      "metadata": {
        "colab": {
          "base_uri": "https://localhost:8080/"
        },
        "id": "R83Cq9wVCpT8",
        "outputId": "ef8cdbbe-4d78-4030-b4d7-5cdfecccf0c1"
      },
      "execution_count": null,
      "outputs": [
        {
          "output_type": "stream",
          "name": "stdout",
          "text": [
            "0\n",
            "1\n",
            "1\n",
            "2\n",
            "3\n"
          ]
        }
      ]
    },
    {
      "cell_type": "code",
      "source": [
        "def cost_of_project(engraving, solid_gold):\n",
        "    cost = solid_gold*(100+10*len(engraving))+(not solid_gold)*(50+7*len(engraving))\n",
        "    return cost"
      ],
      "metadata": {
        "id": "TmDh-wwACyYq"
      },
      "execution_count": null,
      "outputs": []
    },
    {
      "cell_type": "code",
      "source": [
        "project_one = cost_of_project(\"Charlie+Denver\", True)\n",
        "print(project_one)"
      ],
      "metadata": {
        "colab": {
          "base_uri": "https://localhost:8080/"
        },
        "id": "Vv1awLyyEqZ0",
        "outputId": "d094f3a6-4978-4f63-8de1-e02be209599e"
      },
      "execution_count": null,
      "outputs": [
        {
          "output_type": "stream",
          "name": "stdout",
          "text": [
            "240\n"
          ]
        }
      ]
    },
    {
      "cell_type": "code",
      "source": [
        "project_two = cost_of_project(\"08/10/2000\", False)\n",
        "print(project_two)"
      ],
      "metadata": {
        "colab": {
          "base_uri": "https://localhost:8080/"
        },
        "id": "AW8RNWd8E7S0",
        "outputId": "c0f0a05a-bb5b-4e08-c6c0-a47c5bd5f2b2"
      },
      "execution_count": null,
      "outputs": [
        {
          "output_type": "stream",
          "name": "stdout",
          "text": [
            "120\n"
          ]
        }
      ]
    },
    {
      "cell_type": "markdown",
      "source": [
        "## Conditions and Conditional Statements"
      ],
      "metadata": {
        "id": "Hi_Equr7E-Fh"
      }
    },
    {
      "cell_type": "code",
      "source": [
        "var_one = 1\n",
        "var_two = 2\n",
        "\n",
        "print(var_one < 1)\n",
        "print(var_two >= var_one)"
      ],
      "metadata": {
        "colab": {
          "base_uri": "https://localhost:8080/"
        },
        "id": "VGHrso_qFF4q",
        "outputId": "b90b4c3c-9125-4fe6-9857-1b061b487d70"
      },
      "execution_count": null,
      "outputs": [
        {
          "output_type": "stream",
          "name": "stdout",
          "text": [
            "False\n",
            "True\n"
          ]
        }
      ]
    },
    {
      "cell_type": "code",
      "source": [
        "def evaluate_temp(temp):\n",
        "  message = \"Normal temperature\"\n",
        "  if temp> 38:\n",
        "    message = \"Fever!\"\n",
        "  return message\n",
        "\n",
        "print(evaluate_temp(37))    "
      ],
      "metadata": {
        "id": "UYEIl8XlFSYS",
        "colab": {
          "base_uri": "https://localhost:8080/"
        },
        "outputId": "0ce24395-3366-4dbf-966b-a4df6230cc25"
      },
      "execution_count": null,
      "outputs": [
        {
          "output_type": "stream",
          "name": "stdout",
          "text": [
            "Normal temperature\n"
          ]
        }
      ]
    },
    {
      "cell_type": "code",
      "source": [
        "def evaluate_temp_with_else(temp):\n",
        "    if temp > 38:\n",
        "        message = \"Fever!\"\n",
        "    else:\n",
        "        message = \"Normal temperature.\"\n",
        "    return message\n",
        "\n",
        "print(evaluate_temp_with_else(37))    "
      ],
      "metadata": {
        "colab": {
          "base_uri": "https://localhost:8080/"
        },
        "id": "vOY-SCBdPxQ_",
        "outputId": "b99b608d-1b6e-4bf3-cba4-37baae3951ed"
      },
      "execution_count": null,
      "outputs": [
        {
          "output_type": "stream",
          "name": "stdout",
          "text": [
            "Normal temperature.\n"
          ]
        }
      ]
    },
    {
      "cell_type": "code",
      "source": [
        "def evaluate_temp_with_elif(temp):\n",
        "    if temp > 38:\n",
        "        message = \"Fever!\"\n",
        "    elif temp > 35:\n",
        "        message = \"Normal temperature.\"\n",
        "    else:\n",
        "        message = \"Low temperature.\"\n",
        "    return message\n",
        "\n",
        "evaluate_temp_with_elif(34)    "
      ],
      "metadata": {
        "colab": {
          "base_uri": "https://localhost:8080/",
          "height": 35
        },
        "id": "mtfwaD3RQGVi",
        "outputId": "3987527a-f4e7-4189-a3c8-9bd450578ad5"
      },
      "execution_count": null,
      "outputs": [
        {
          "output_type": "execute_result",
          "data": {
            "text/plain": [
              "'Low temperature.'"
            ],
            "application/vnd.google.colaboratory.intrinsic+json": {
              "type": "string"
            }
          },
          "metadata": {},
          "execution_count": 29
        }
      ]
    },
    {
      "cell_type": "code",
      "source": [
        "def get_taxes(earnings):\n",
        "    if earnings < 12000:\n",
        "        tax_owed = .25 * earnings\n",
        "    else:\n",
        "        tax_owed = .30 * earnings\n",
        "    return tax_owed\n",
        "\n",
        "ana_taxes = get_taxes(9000)\n",
        "bob_taxes = get_taxes(15000)\n",
        "\n",
        "print(ana_taxes)\n",
        "print(bob_taxes)    "
      ],
      "metadata": {
        "colab": {
          "base_uri": "https://localhost:8080/"
        },
        "id": "-yAEsMr_Qjuu",
        "outputId": "b0e6c522-9594-44f9-bb5a-675711f80294"
      },
      "execution_count": null,
      "outputs": [
        {
          "output_type": "stream",
          "name": "stdout",
          "text": [
            "2250.0\n",
            "4500.0\n"
          ]
        }
      ]
    },
    {
      "cell_type": "code",
      "source": [
        "def get_dose(weight):\n",
        "    # Dosage is 1.25 ml for anyone under 5.2 kg\n",
        "    if weight < 5.2:\n",
        "        dose = 1.25\n",
        "    elif weight < 7.9:\n",
        "        dose = 2.5\n",
        "    elif weight < 10.4:\n",
        "        dose = 3.75\n",
        "    elif weight < 15.9:\n",
        "        dose = 5\n",
        "    elif weight < 21.2:\n",
        "        dose = 7.5\n",
        "    # Dosage is 10 ml for anyone 21.2 kg or over\n",
        "    else:\n",
        "        dose = 10\n",
        "    return dose"
      ],
      "metadata": {
        "id": "e3ems2LsQ6G-"
      },
      "execution_count": null,
      "outputs": []
    },
    {
      "cell_type": "code",
      "source": [
        "print(get_dose(12))"
      ],
      "metadata": {
        "colab": {
          "base_uri": "https://localhost:8080/"
        },
        "id": "GmC34HccR3VW",
        "outputId": "971293df-ce7f-4352-fc74-245c10350224"
      },
      "execution_count": null,
      "outputs": [
        {
          "output_type": "stream",
          "name": "stdout",
          "text": [
            "5\n"
          ]
        }
      ]
    },
    {
      "cell_type": "code",
      "source": [
        "def cost_of_project(engraving, solid_gold):\n",
        "    if solid_gold == True:\n",
        "        cost = 100+(10*len(engraving))\n",
        "    else:\n",
        "        cost = 50+(7*len(engraving))\n",
        "    return cost\n",
        "\n",
        "cost_of_project(\"Hello\",True)    "
      ],
      "metadata": {
        "colab": {
          "base_uri": "https://localhost:8080/"
        },
        "id": "T_SqdIBgR4Dl",
        "outputId": "5c5563fd-44b5-4d2d-9ccd-a01b8483484a"
      },
      "execution_count": null,
      "outputs": [
        {
          "output_type": "execute_result",
          "data": {
            "text/plain": [
              "150"
            ]
          },
          "metadata": {},
          "execution_count": 33
        }
      ]
    },
    {
      "cell_type": "code",
      "source": [
        "def get_water_bill(num_gallons):\n",
        "    if num_gallons<= 8000:\n",
        "        bill=(num_gallons/1000)*5\n",
        "    elif num_gallons<=22000:\n",
        "        bill=(num_gallons/1000)*6\n",
        "    elif num_gallons<=30000:\n",
        "        bill=(num_gallons/1000)*7\n",
        "    else:\n",
        "        bill=(num_gallons/1000)*10\n",
        "    return bill\n",
        "get_water_bill(7000)    "
      ],
      "metadata": {
        "colab": {
          "base_uri": "https://localhost:8080/"
        },
        "id": "2ia5K482StXo",
        "outputId": "f722a7eb-2757-4b64-b92b-4047eee53582"
      },
      "execution_count": null,
      "outputs": [
        {
          "output_type": "execute_result",
          "data": {
            "text/plain": [
              "35.0"
            ]
          },
          "metadata": {},
          "execution_count": 34
        }
      ]
    },
    {
      "cell_type": "code",
      "source": [
        "def get_phone_bill(gb): \n",
        "    if gb<=15:\n",
        "        bill =100\n",
        "    else:\n",
        "        bill=100+((gb-15)*1000*0.10)\n",
        "    return bill\n",
        "print(get_phone_bill(15))\n",
        "print(get_phone_bill(15.1))"
      ],
      "metadata": {
        "colab": {
          "base_uri": "https://localhost:8080/"
        },
        "id": "h-qmNX99THum",
        "outputId": "de5442e9-5faf-4710-cf6b-f58c3f62673f"
      },
      "execution_count": null,
      "outputs": [
        {
          "output_type": "stream",
          "name": "stdout",
          "text": [
            "100\n",
            "109.99999999999997\n"
          ]
        }
      ]
    },
    {
      "cell_type": "markdown",
      "source": [
        "## Intro to lists"
      ],
      "metadata": {
        "id": "PJ-x5GXCTRBd"
      }
    },
    {
      "cell_type": "code",
      "source": [
        "flowers_list = [\"pink primrose\", \"hard-leaved pocket orchid\", \"canterbury bells\", \"sweet pea\", \"english marigold\", \"tiger lily\", \"moon orchid\", \"bird of paradise\", \"monkshood\", \"globe thistle\"]\n",
        "\n",
        "print(type(flowers_list))\n",
        "print(flowers_list)"
      ],
      "metadata": {
        "colab": {
          "base_uri": "https://localhost:8080/"
        },
        "id": "oqFwoBgUTnpk",
        "outputId": "bab35473-9dcc-44d3-a21b-7646e0effa88"
      },
      "execution_count": null,
      "outputs": [
        {
          "output_type": "stream",
          "name": "stdout",
          "text": [
            "<class 'list'>\n",
            "['pink primrose', 'hard-leaved pocket orchid', 'canterbury bells', 'sweet pea', 'english marigold', 'tiger lily', 'moon orchid', 'bird of paradise', 'monkshood', 'globe thistle']\n"
          ]
        }
      ]
    },
    {
      "cell_type": "code",
      "source": [
        "print(len(flowers_list))"
      ],
      "metadata": {
        "colab": {
          "base_uri": "https://localhost:8080/"
        },
        "id": "W9EFXdmETsIs",
        "outputId": "8599e867-91c2-4485-e8b5-0e4d4c18cbbf"
      },
      "execution_count": null,
      "outputs": [
        {
          "output_type": "stream",
          "name": "stdout",
          "text": [
            "10\n"
          ]
        }
      ]
    },
    {
      "cell_type": "code",
      "source": [
        "print(\"First entry:\", flowers_list[0])"
      ],
      "metadata": {
        "colab": {
          "base_uri": "https://localhost:8080/"
        },
        "id": "DkMAhNRJTxG0",
        "outputId": "342eeed0-9d06-4e66-f427-fa0af20af02c"
      },
      "execution_count": null,
      "outputs": [
        {
          "output_type": "stream",
          "name": "stdout",
          "text": [
            "First entry: pink primrose\n"
          ]
        }
      ]
    },
    {
      "cell_type": "code",
      "source": [
        "print(\"First three entries:\", flowers_list[:3])\n",
        "print(\"Final two entries:\", flowers_list[-2:])"
      ],
      "metadata": {
        "colab": {
          "base_uri": "https://localhost:8080/"
        },
        "id": "GDk0r64uUCpg",
        "outputId": "3515de3e-43a6-4eb4-c665-e2e266e6ba84"
      },
      "execution_count": null,
      "outputs": [
        {
          "output_type": "stream",
          "name": "stdout",
          "text": [
            "First three entries: ['pink primrose', 'hard-leaved pocket orchid', 'canterbury bells']\n",
            "Final two entries: ['monkshood', 'globe thistle']\n"
          ]
        }
      ]
    },
    {
      "cell_type": "code",
      "source": [
        "flowers_list.remove(\"globe thistle\")\n",
        "print(flowers_list)"
      ],
      "metadata": {
        "colab": {
          "base_uri": "https://localhost:8080/"
        },
        "id": "4oKejHj3UMBO",
        "outputId": "4dc02010-aadd-4cb7-dbce-d02b1d1df96d"
      },
      "execution_count": null,
      "outputs": [
        {
          "output_type": "stream",
          "name": "stdout",
          "text": [
            "['pink primrose', 'hard-leaved pocket orchid', 'canterbury bells', 'sweet pea', 'english marigold', 'tiger lily', 'moon orchid', 'bird of paradise', 'monkshood']\n"
          ]
        }
      ]
    },
    {
      "cell_type": "code",
      "source": [
        "flowers_list.append(\"snapdragon\")\n",
        "print(flowers_list)"
      ],
      "metadata": {
        "colab": {
          "base_uri": "https://localhost:8080/"
        },
        "id": "MZRMaQAvUgS-",
        "outputId": "c33b030a-a048-400c-8598-c5b1326e1bea"
      },
      "execution_count": null,
      "outputs": [
        {
          "output_type": "stream",
          "name": "stdout",
          "text": [
            "['pink primrose', 'hard-leaved pocket orchid', 'canterbury bells', 'sweet pea', 'english marigold', 'tiger lily', 'moon orchid', 'bird of paradise', 'monkshood', 'snapdragon']\n"
          ]
        }
      ]
    },
    {
      "cell_type": "code",
      "source": [
        "hardcover_sales = [139, 128, 172, 139, 191, 168, 170]"
      ],
      "metadata": {
        "id": "n-Sm6YLEUtsF"
      },
      "execution_count": null,
      "outputs": []
    },
    {
      "cell_type": "code",
      "source": [
        "print(\"Length of the list:\", len(hardcover_sales))\n",
        "print(\"Entry at index 2:\", hardcover_sales[2])"
      ],
      "metadata": {
        "colab": {
          "base_uri": "https://localhost:8080/"
        },
        "id": "ixwtwypvU1uG",
        "outputId": "02f93c86-6662-4081-812a-d2bf3adb20e4"
      },
      "execution_count": null,
      "outputs": [
        {
          "output_type": "stream",
          "name": "stdout",
          "text": [
            "Length of the list: 7\n",
            "Entry at index 2: 172\n"
          ]
        }
      ]
    },
    {
      "cell_type": "code",
      "source": [
        "print(\"Minimum:\", min(hardcover_sales))\n",
        "print(\"Maximum:\", max(hardcover_sales))"
      ],
      "metadata": {
        "colab": {
          "base_uri": "https://localhost:8080/"
        },
        "id": "2E9Fv38ZU5aX",
        "outputId": "d479b484-f14c-41b4-a96c-b0cedd97654e"
      },
      "execution_count": null,
      "outputs": [
        {
          "output_type": "stream",
          "name": "stdout",
          "text": [
            "Minimum: 128\n",
            "Maximum: 191\n"
          ]
        }
      ]
    },
    {
      "cell_type": "code",
      "source": [
        "print(\"Total books sold in one week:\", sum(hardcover_sales))"
      ],
      "metadata": {
        "colab": {
          "base_uri": "https://localhost:8080/"
        },
        "id": "35Rm5orBU9EH",
        "outputId": "1a51db07-25a5-4eea-e4c5-1f04ed2683e5"
      },
      "execution_count": null,
      "outputs": [
        {
          "output_type": "stream",
          "name": "stdout",
          "text": [
            "Total books sold in one week: 1107\n"
          ]
        }
      ]
    },
    {
      "cell_type": "code",
      "source": [
        "print(\"Average books sold in first five days:\", sum(hardcover_sales[:5])/5)"
      ],
      "metadata": {
        "colab": {
          "base_uri": "https://localhost:8080/"
        },
        "id": "9EEN8YvJVDuf",
        "outputId": "2a7e6e83-ef23-4e46-c4ac-f3ef7c69641a"
      },
      "execution_count": null,
      "outputs": [
        {
          "output_type": "stream",
          "name": "stdout",
          "text": [
            "Average books sold in first five days: 153.8\n"
          ]
        }
      ]
    },
    {
      "cell_type": "markdown",
      "source": [
        "## Exercise: Intro to Lists"
      ],
      "metadata": {
        "id": "agW0gVr-VI5v"
      }
    },
    {
      "cell_type": "markdown",
      "source": [
        "### string into lists"
      ],
      "metadata": {
        "id": "X1Of2eLFWMXm"
      }
    },
    {
      "cell_type": "code",
      "source": [
        "flowers = \"pink primrose,hard-leaved pocket orchid,canterbury bells,sweet pea,english marigold,tiger lily,moon orchid,bird of paradise,monkshood,globe thistle\"\n",
        "print(flowers.split(\",\"))"
      ],
      "metadata": {
        "colab": {
          "base_uri": "https://localhost:8080/"
        },
        "id": "_Rg9NturVRvw",
        "outputId": "bdf9ce3e-68f3-4599-f08c-757f0470c9d8"
      },
      "execution_count": null,
      "outputs": [
        {
          "output_type": "stream",
          "name": "stdout",
          "text": [
            "['pink primrose', 'hard-leaved pocket orchid', 'canterbury bells', 'sweet pea', 'english marigold', 'tiger lily', 'moon orchid', 'bird of paradise', 'monkshood', 'globe thistle']\n"
          ]
        }
      ]
    },
    {
      "cell_type": "code",
      "source": [
        "# DO not change: Define two Python strings\n",
        "alphabet = \"A.B.C.D.E.F.G.H.I.J.K.L.M.N.O.P.Q.R.S.T.U.V.W.X.Y.Z\"\n",
        "address = \"Mr. H. Potter,The cupboard under the Stairs,4 Privet Drive,Little Whinging,Surrey\"\n",
        "\n",
        "# TODO: Convert strings into Python lists\n",
        "letters = alphabet.split(\".\")\n",
        "formatted_address = address.split(\",\")\n",
        "\n",
        "print(letters)\n",
        "print(formatted_address)"
      ],
      "metadata": {
        "colab": {
          "base_uri": "https://localhost:8080/"
        },
        "id": "o0M45dSWWHaC",
        "outputId": "d4aeabd7-8921-424c-feba-649394a50974"
      },
      "execution_count": null,
      "outputs": [
        {
          "output_type": "stream",
          "name": "stdout",
          "text": [
            "['A', 'B', 'C', 'D', 'E', 'F', 'G', 'H', 'I', 'J', 'K', 'L', 'M', 'N', 'O', 'P', 'Q', 'R', 'S', 'T', 'U', 'V', 'W', 'X', 'Y', 'Z']\n",
            "['Mr. H. Potter', 'The cupboard under the Stairs', '4 Privet Drive', 'Little Whinging', 'Surrey']\n"
          ]
        }
      ]
    },
    {
      "cell_type": "code",
      "source": [
        "test_ratings = [1, 2, 3, 4, 5]\n",
        "test_liked = [i>=4 for i in test_ratings]\n",
        "print(test_liked)"
      ],
      "metadata": {
        "colab": {
          "base_uri": "https://localhost:8080/"
        },
        "id": "1fU21tt5W1lJ",
        "outputId": "960f1549-36cd-4880-d6c8-491b7bbfce85"
      },
      "execution_count": null,
      "outputs": [
        {
          "output_type": "stream",
          "name": "stdout",
          "text": [
            "[False, False, False, True, True]\n"
          ]
        }
      ]
    },
    {
      "cell_type": "code",
      "source": [
        "def percentage_liked(ratings):\n",
        "  list_liked = [i>=4 for i in ratings]\n",
        "  percentage_liked = sum(list_liked)/len(list_liked)\n",
        "  return percentage_liked\n",
        "\n",
        "percentage_liked([1,2,3,4,5,4,5,1])\n",
        "  "
      ],
      "metadata": {
        "colab": {
          "base_uri": "https://localhost:8080/"
        },
        "id": "EPbXT0G9caqK",
        "outputId": "91e33e94-55a8-4efb-9478-d186d292010a"
      },
      "execution_count": null,
      "outputs": [
        {
          "output_type": "execute_result",
          "data": {
            "text/plain": [
              "0.5"
            ]
          },
          "metadata": {},
          "execution_count": 56
        }
      ]
    },
    {
      "cell_type": "code",
      "source": [
        "def percentage_growth(num_users, yrs_ago):\n",
        "    growth = (num_users[len(num_users)-1] - num_users[(len(num_users)-1)-yrs_ago])/num_users[(len(num_users)-1)-yrs_ago]\n",
        "    return growth\n",
        "\n",
        "# Do not change: Variable for calculating some test examples\n",
        "num_users_test = [920344, 1043553, 1204334, 1458996, 1503323, 1593432, 1623463, 1843064, 1930992, 2001078]\n",
        "\n",
        "# Do not change: Should return .036\n",
        "print(percentage_growth(num_users_test, 1))\n",
        "\n",
        "# Do not change: Should return 0.66\n",
        "print(percentage_growth(num_users_test, 7))\n"
      ],
      "metadata": {
        "colab": {
          "base_uri": "https://localhost:8080/"
        },
        "id": "BcAPPMnqd1sH",
        "outputId": "10f02ac3-7329-4744-b584-3cd24a67da72"
      },
      "execution_count": null,
      "outputs": [
        {
          "output_type": "stream",
          "name": "stdout",
          "text": [
            "0.03629533421163837\n",
            "0.6615639847417742\n"
          ]
        }
      ]
    },
    {
      "cell_type": "code",
      "source": [],
      "metadata": {
        "id": "j-po649Bn6Qe"
      },
      "execution_count": null,
      "outputs": []
    }
  ]
}