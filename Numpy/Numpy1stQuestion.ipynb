{
  "nbformat": 4,
  "nbformat_minor": 0,
  "metadata": {
    "colab": {
      "provenance": [],
      "authorship_tag": "ABX9TyMeO/fnVbNiO81YxbnNDpJX",
      "include_colab_link": true
    },
    "kernelspec": {
      "name": "python3",
      "display_name": "Python 3"
    },
    "language_info": {
      "name": "python"
    }
  },
  "cells": [
    {
      "cell_type": "markdown",
      "metadata": {
        "id": "view-in-github",
        "colab_type": "text"
      },
      "source": [
        "<a href=\"https://colab.research.google.com/github/Nukaraju2003/FundamentalsofMachineLearning/blob/main/Numpy1stQuestion.ipynb\" target=\"_parent\"><img src=\"https://colab.research.google.com/assets/colab-badge.svg\" alt=\"Open In Colab\"/></a>"
      ]
    },
    {
      "cell_type": "code",
      "execution_count": null,
      "metadata": {
        "colab": {
          "base_uri": "https://localhost:8080/"
        },
        "id": "HnOjPQoGX_8z",
        "outputId": "223a1de3-58d0-4e3e-a706-1e3a0a2c1c42"
      },
      "outputs": [
        {
          "output_type": "stream",
          "name": "stdout",
          "text": [
            "[[ 1  2  3  4  5]\n",
            " [ 6  7  8  9 10]\n",
            " [11 12 13 14 15]\n",
            " [16 17 18 19 20]]\n"
          ]
        }
      ],
      "source": [
        "import numpy as np\n",
        "#2-D Numpy array of size (4,5)\n",
        "\n",
        "Array = np.array([[1,2,3,4,5],\n",
        "                 [6,7,8,9,10],\n",
        "                 [11,12,13,14,15],\n",
        "                 [16,17,18,19,20]])\n",
        "print(Array)"
      ]
    },
    {
      "cell_type": "code",
      "source": [
        "# a.Modify elements less than 4 with -1 in the array\n",
        "Array[Array<4]= -1\n",
        "print(\"Modified Array: \")\n",
        "print(Array)"
      ],
      "metadata": {
        "colab": {
          "base_uri": "https://localhost:8080/"
        },
        "id": "IkItzF2fYq3i",
        "outputId": "621d1a6c-e07a-475f-a5c3-86b6cbd8f5a3"
      },
      "execution_count": null,
      "outputs": [
        {
          "output_type": "stream",
          "name": "stdout",
          "text": [
            "Modified Array: \n",
            "[[-1 -1 -1  4  5]\n",
            " [ 6  7  8  9 10]\n",
            " [11 12 13 14 15]\n",
            " [16 17 18 19 20]]\n"
          ]
        }
      ]
    },
    {
      "cell_type": "code",
      "source": [
        "#b. Apply “sin” operation on every element in the array and multiple by 10.\n",
        "result = np.sin(Array) * 10\n",
        "print (result)"
      ],
      "metadata": {
        "colab": {
          "base_uri": "https://localhost:8080/"
        },
        "id": "3W8Cn8WqZXO-",
        "outputId": "071cdc37-d643-493a-94db-d9170158d82a"
      },
      "execution_count": null,
      "outputs": [
        {
          "output_type": "stream",
          "name": "stdout",
          "text": [
            "[[-8.41470985 -8.41470985 -8.41470985 -7.56802495 -9.58924275]\n",
            " [-2.79415498  6.56986599  9.89358247  4.12118485 -5.44021111]\n",
            " [-9.99990207 -5.36572918  4.20167037  9.90607356  6.5028784 ]\n",
            " [-2.87903317 -9.61397492 -7.50987247  1.4987721   9.12945251]]\n"
          ]
        }
      ]
    },
    {
      "cell_type": "code",
      "source": [
        "#c.Print 2 nd column from 2 nd and 3 rd row\n",
        "selected_column = Array[1:3, 1]\n",
        "print(selected_column)"
      ],
      "metadata": {
        "colab": {
          "base_uri": "https://localhost:8080/"
        },
        "id": "dPkiSTlWZmKn",
        "outputId": "e2042466-841e-42db-81d0-9854a538c35c"
      },
      "execution_count": null,
      "outputs": [
        {
          "output_type": "stream",
          "name": "stdout",
          "text": [
            "[ 7 12]\n"
          ]
        }
      ]
    },
    {
      "cell_type": "code",
      "source": [
        "#d.Print element from last row and last column using negative indexing.\n",
        "last_element = Array[-1,-1]\n",
        "print(last_element)"
      ],
      "metadata": {
        "colab": {
          "base_uri": "https://localhost:8080/"
        },
        "id": "ZU3VSN2VZ_ma",
        "outputId": "6c35b866-4902-4db6-ac4d-3e40f9ea9eea"
      },
      "execution_count": null,
      "outputs": [
        {
          "output_type": "stream",
          "name": "stdout",
          "text": [
            "20\n"
          ]
        }
      ]
    },
    {
      "cell_type": "code",
      "source": [
        "#e.Transpose a matrix\n",
        "transposed_matrix = Array.T\n",
        "print(transposed_matrix)"
      ],
      "metadata": {
        "colab": {
          "base_uri": "https://localhost:8080/"
        },
        "id": "XuwLzEmEab1o",
        "outputId": "3a6d2b7f-cfc3-4acf-bca2-ada356422e40"
      },
      "execution_count": null,
      "outputs": [
        {
          "output_type": "stream",
          "name": "stdout",
          "text": [
            "[[-1  6 11 16]\n",
            " [-1  7 12 17]\n",
            " [-1  8 13 18]\n",
            " [ 4  9 14 19]\n",
            " [ 5 10 15 20]]\n"
          ]
        }
      ]
    },
    {
      "cell_type": "code",
      "source": [
        "#f.Reshape the array into 2 rows and 10 columns\n",
        "reshaped_Array = Array.reshape(2,10)\n",
        "print(reshaped_Array)"
      ],
      "metadata": {
        "colab": {
          "base_uri": "https://localhost:8080/"
        },
        "id": "D4ATv6_pa4L1",
        "outputId": "7b939673-d49d-4f0f-ffc6-b2195a5630ae"
      },
      "execution_count": null,
      "outputs": [
        {
          "output_type": "stream",
          "name": "stdout",
          "text": [
            "[[-1 -1 -1  4  5  6  7  8  9 10]\n",
            " [11 12 13 14 15 16 17 18 19 20]]\n"
          ]
        }
      ]
    },
    {
      "cell_type": "code",
      "source": [
        "#g. Print last row using negative indexing\n",
        "lastrow = reshaped_Array[-1]\n",
        "print(lastrow)"
      ],
      "metadata": {
        "colab": {
          "base_uri": "https://localhost:8080/"
        },
        "id": "jMtK94VybOI7",
        "outputId": "d75eac22-7b38-4541-c908-d3c1a4f71223"
      },
      "execution_count": null,
      "outputs": [
        {
          "output_type": "stream",
          "name": "stdout",
          "text": [
            "[11 12 13 14 15 16 17 18 19 20]\n"
          ]
        }
      ]
    },
    {
      "cell_type": "code",
      "source": [
        "#f.Convert a 2-D array into 1-D array. Flatten the array\n",
        "flattenArray = reshaped_Array.flatten()\n",
        "print(flattenArray)"
      ],
      "metadata": {
        "colab": {
          "base_uri": "https://localhost:8080/"
        },
        "id": "KPukgdvrbocc",
        "outputId": "6f28b5b4-8359-4c6e-9403-d7e968dea7a0"
      },
      "execution_count": null,
      "outputs": [
        {
          "output_type": "stream",
          "name": "stdout",
          "text": [
            "[-1 -1 -1  4  5  6  7  8  9 10 11 12 13 14 15 16 17 18 19 20]\n"
          ]
        }
      ]
    },
    {
      "cell_type": "code",
      "source": [],
      "metadata": {
        "id": "95DB27NqcP5A"
      },
      "execution_count": null,
      "outputs": []
    }
  ]
}